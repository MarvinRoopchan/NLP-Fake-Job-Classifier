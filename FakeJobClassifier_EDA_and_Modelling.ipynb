{
  "cells": [
    {
      "cell_type": "markdown",
      "metadata": {},
      "source": [
        "# Methods\n",
        "\n",
        "## Data Preprocessing\n",
        "\n",
        "### Text Cleaning and Normalization\n",
        "1. **Lowercasing**: Convert all text to lowercase to standardize spelling variants.\n",
        "2. **Removing Punctuation/Special Characters**: Eliminate noise from symbols and punctuation.\n",
        "3. **Tokenization**: Segment text into tokens (words/symbols) using NLTK.\n",
        "4. **Stop Word Removal**: Drop high-frequency, low-information words (e.g., \"the\", \"and\").\n",
        "5. **Lemmatization**: Reduce words to base forms (e.g., \"running\" → \"run\") to group variants.\n",
        "\n",
        "### Handling Class Imbalance\n",
        "- **Oversampling (SMOTE)**: Generate synthetic samples for the minority (fraudulent) class to balance the dataset.\n",
        "\n",
        "---\n",
        "\n",
        "## Feature Extraction\n",
        "\n",
        "### Bag-of-Words (BoW)\n",
        "- **Unigram Model**: Represent text as token counts (or binary presence/absence).\n",
        "- **Bigrams (where applicable)**: Capture two-word phrases for contextual patterns.\n",
        "\n",
        "### TF-IDF (Term Frequency-Inverse Document Frequency)\n",
        "- Weight terms by their frequency in a document vs. rarity in the dataset.\n",
        "- **Unigrams + Bigrams**: Highlight discriminative terms (e.g., \"scam\", \"urgent\").\n",
        "\n",
        "---\n",
        "\n",
        "## Model Selection\n",
        "\n",
        "### Primary Model: Multinomial Naïve Bayes (MNB)\n",
        "- **Implementation**: Scikit-learn’s `MultinomialNB`.\n",
        "- **Smoothing (Laplace)**: Handle zero probabilities with `α = 1`.\n",
        "\n",
        "### Baseline Comparisons\n",
        "1. **Logistic Regression**:\n",
        "   - Linear model with default regularization (`C=1`).\n",
        "   - Max iterations: 1000.\n",
        "2. **Neural Network**:\n",
        "   - 4-layer architecture (ReLU activations + sigmoid output).\n",
        "   - Optimizer: Adam.\n",
        "   - Early stopping (patience=3).\n",
        "   - Class weights for imbalance.\n",
        "\n",
        "---\n",
        "\n",
        "## Training and Validation\n",
        "\n",
        "### Data Partitioning\n",
        "- **Split**: 80% training, 20% test (stratified to maintain class distribution).\n",
        "\n",
        "### Cross-Validation\n",
        "- **k-Fold (k=5)**: Train on 4 folds, validate on 1; average metrics across folds.\n",
        "\n",
        "### Hyperparameters\n",
        "- **Naïve Bayes**: `α = 1` (Laplace smoothing).\n",
        "- **Logistic Regression**: `C=1`, max iterations = 1000.\n",
        "- **Neural Network**: Class-weighted loss, early stopping.\n",
        "\n",
        "---\n",
        "\n",
        "## Evaluation Metrics\n",
        "- **Primary Metrics**:\n",
        "  - Accuracy, Precision, Recall, F1 Score.\n",
        "  - Confusion Matrix (focus on minimizing false negatives).\n",
        "- **Focus**: High recall to reduce missed fraud cases."
      ]
    },
    {
      "cell_type": "code",
      "execution_count": 1,
      "metadata": {
        "colab": {
          "base_uri": "https://localhost:8080/"
        },
        "collapsed": true,
        "id": "C6d353uQyT8P",
        "outputId": "3a805e04-b103-4b22-b98b-45769c87dcec"
      },
      "outputs": [
        {
          "name": "stdout",
          "output_type": "stream",
          "text": [
            "Requirement already satisfied: kagglehub[pandas-datasets] in /usr/local/lib/python3.11/dist-packages (0.3.10)\n",
            "Requirement already satisfied: packaging in /usr/local/lib/python3.11/dist-packages (from kagglehub[pandas-datasets]) (24.2)\n",
            "Requirement already satisfied: pyyaml in /usr/local/lib/python3.11/dist-packages (from kagglehub[pandas-datasets]) (6.0.2)\n",
            "Requirement already satisfied: requests in /usr/local/lib/python3.11/dist-packages (from kagglehub[pandas-datasets]) (2.32.3)\n",
            "Requirement already satisfied: tqdm in /usr/local/lib/python3.11/dist-packages (from kagglehub[pandas-datasets]) (4.67.1)\n",
            "Requirement already satisfied: pandas in /usr/local/lib/python3.11/dist-packages (from kagglehub[pandas-datasets]) (2.2.2)\n",
            "Requirement already satisfied: numpy>=1.23.2 in /usr/local/lib/python3.11/dist-packages (from pandas->kagglehub[pandas-datasets]) (2.0.2)\n",
            "Requirement already satisfied: python-dateutil>=2.8.2 in /usr/local/lib/python3.11/dist-packages (from pandas->kagglehub[pandas-datasets]) (2.8.2)\n",
            "Requirement already satisfied: pytz>=2020.1 in /usr/local/lib/python3.11/dist-packages (from pandas->kagglehub[pandas-datasets]) (2025.2)\n",
            "Requirement already satisfied: tzdata>=2022.7 in /usr/local/lib/python3.11/dist-packages (from pandas->kagglehub[pandas-datasets]) (2025.2)\n",
            "Requirement already satisfied: charset-normalizer<4,>=2 in /usr/local/lib/python3.11/dist-packages (from requests->kagglehub[pandas-datasets]) (3.4.1)\n",
            "Requirement already satisfied: idna<4,>=2.5 in /usr/local/lib/python3.11/dist-packages (from requests->kagglehub[pandas-datasets]) (3.10)\n",
            "Requirement already satisfied: urllib3<3,>=1.21.1 in /usr/local/lib/python3.11/dist-packages (from requests->kagglehub[pandas-datasets]) (2.3.0)\n",
            "Requirement already satisfied: certifi>=2017.4.17 in /usr/local/lib/python3.11/dist-packages (from requests->kagglehub[pandas-datasets]) (2025.1.31)\n",
            "Requirement already satisfied: six>=1.5 in /usr/local/lib/python3.11/dist-packages (from python-dateutil>=2.8.2->pandas->kagglehub[pandas-datasets]) (1.17.0)\n",
            "Requirement already satisfied: imbalanced-learn in /usr/local/lib/python3.11/dist-packages (0.13.0)\n",
            "Requirement already satisfied: numpy<3,>=1.24.3 in /usr/local/lib/python3.11/dist-packages (from imbalanced-learn) (2.0.2)\n",
            "Requirement already satisfied: scipy<2,>=1.10.1 in /usr/local/lib/python3.11/dist-packages (from imbalanced-learn) (1.14.1)\n",
            "Requirement already satisfied: scikit-learn<2,>=1.3.2 in /usr/local/lib/python3.11/dist-packages (from imbalanced-learn) (1.6.1)\n",
            "Requirement already satisfied: sklearn-compat<1,>=0.1 in /usr/local/lib/python3.11/dist-packages (from imbalanced-learn) (0.1.3)\n",
            "Requirement already satisfied: joblib<2,>=1.1.1 in /usr/local/lib/python3.11/dist-packages (from imbalanced-learn) (1.4.2)\n",
            "Requirement already satisfied: threadpoolctl<4,>=2.0.0 in /usr/local/lib/python3.11/dist-packages (from imbalanced-learn) (3.6.0)\n",
            "Requirement already satisfied: nltk in /usr/local/lib/python3.11/dist-packages (3.9.1)\n",
            "Requirement already satisfied: click in /usr/local/lib/python3.11/dist-packages (from nltk) (8.1.8)\n",
            "Requirement already satisfied: joblib in /usr/local/lib/python3.11/dist-packages (from nltk) (1.4.2)\n",
            "Requirement already satisfied: regex>=2021.8.3 in /usr/local/lib/python3.11/dist-packages (from nltk) (2024.11.6)\n",
            "Requirement already satisfied: tqdm in /usr/local/lib/python3.11/dist-packages (from nltk) (4.67.1)\n",
            "Requirement already satisfied: tensorflow in /usr/local/lib/python3.11/dist-packages (2.18.0)\n",
            "Requirement already satisfied: absl-py>=1.0.0 in /usr/local/lib/python3.11/dist-packages (from tensorflow) (1.4.0)\n",
            "Requirement already satisfied: astunparse>=1.6.0 in /usr/local/lib/python3.11/dist-packages (from tensorflow) (1.6.3)\n",
            "Requirement already satisfied: flatbuffers>=24.3.25 in /usr/local/lib/python3.11/dist-packages (from tensorflow) (25.2.10)\n",
            "Requirement already satisfied: gast!=0.5.0,!=0.5.1,!=0.5.2,>=0.2.1 in /usr/local/lib/python3.11/dist-packages (from tensorflow) (0.6.0)\n",
            "Requirement already satisfied: google-pasta>=0.1.1 in /usr/local/lib/python3.11/dist-packages (from tensorflow) (0.2.0)\n",
            "Requirement already satisfied: libclang>=13.0.0 in /usr/local/lib/python3.11/dist-packages (from tensorflow) (18.1.1)\n",
            "Requirement already satisfied: opt-einsum>=2.3.2 in /usr/local/lib/python3.11/dist-packages (from tensorflow) (3.4.0)\n",
            "Requirement already satisfied: packaging in /usr/local/lib/python3.11/dist-packages (from tensorflow) (24.2)\n",
            "Requirement already satisfied: protobuf!=4.21.0,!=4.21.1,!=4.21.2,!=4.21.3,!=4.21.4,!=4.21.5,<6.0.0dev,>=3.20.3 in /usr/local/lib/python3.11/dist-packages (from tensorflow) (5.29.4)\n",
            "Requirement already satisfied: requests<3,>=2.21.0 in /usr/local/lib/python3.11/dist-packages (from tensorflow) (2.32.3)\n",
            "Requirement already satisfied: setuptools in /usr/local/lib/python3.11/dist-packages (from tensorflow) (75.2.0)\n",
            "Requirement already satisfied: six>=1.12.0 in /usr/local/lib/python3.11/dist-packages (from tensorflow) (1.17.0)\n",
            "Requirement already satisfied: termcolor>=1.1.0 in /usr/local/lib/python3.11/dist-packages (from tensorflow) (3.0.0)\n",
            "Requirement already satisfied: typing-extensions>=3.6.6 in /usr/local/lib/python3.11/dist-packages (from tensorflow) (4.13.0)\n",
            "Requirement already satisfied: wrapt>=1.11.0 in /usr/local/lib/python3.11/dist-packages (from tensorflow) (1.17.2)\n",
            "Requirement already satisfied: grpcio<2.0,>=1.24.3 in /usr/local/lib/python3.11/dist-packages (from tensorflow) (1.71.0)\n",
            "Requirement already satisfied: tensorboard<2.19,>=2.18 in /usr/local/lib/python3.11/dist-packages (from tensorflow) (2.18.0)\n",
            "Requirement already satisfied: keras>=3.5.0 in /usr/local/lib/python3.11/dist-packages (from tensorflow) (3.8.0)\n",
            "Requirement already satisfied: numpy<2.1.0,>=1.26.0 in /usr/local/lib/python3.11/dist-packages (from tensorflow) (2.0.2)\n",
            "Requirement already satisfied: h5py>=3.11.0 in /usr/local/lib/python3.11/dist-packages (from tensorflow) (3.13.0)\n",
            "Requirement already satisfied: ml-dtypes<0.5.0,>=0.4.0 in /usr/local/lib/python3.11/dist-packages (from tensorflow) (0.4.1)\n",
            "Requirement already satisfied: tensorflow-io-gcs-filesystem>=0.23.1 in /usr/local/lib/python3.11/dist-packages (from tensorflow) (0.37.1)\n",
            "Requirement already satisfied: wheel<1.0,>=0.23.0 in /usr/local/lib/python3.11/dist-packages (from astunparse>=1.6.0->tensorflow) (0.45.1)\n",
            "Requirement already satisfied: rich in /usr/local/lib/python3.11/dist-packages (from keras>=3.5.0->tensorflow) (13.9.4)\n",
            "Requirement already satisfied: namex in /usr/local/lib/python3.11/dist-packages (from keras>=3.5.0->tensorflow) (0.0.8)\n",
            "Requirement already satisfied: optree in /usr/local/lib/python3.11/dist-packages (from keras>=3.5.0->tensorflow) (0.14.1)\n",
            "Requirement already satisfied: charset-normalizer<4,>=2 in /usr/local/lib/python3.11/dist-packages (from requests<3,>=2.21.0->tensorflow) (3.4.1)\n",
            "Requirement already satisfied: idna<4,>=2.5 in /usr/local/lib/python3.11/dist-packages (from requests<3,>=2.21.0->tensorflow) (3.10)\n",
            "Requirement already satisfied: urllib3<3,>=1.21.1 in /usr/local/lib/python3.11/dist-packages (from requests<3,>=2.21.0->tensorflow) (2.3.0)\n",
            "Requirement already satisfied: certifi>=2017.4.17 in /usr/local/lib/python3.11/dist-packages (from requests<3,>=2.21.0->tensorflow) (2025.1.31)\n",
            "Requirement already satisfied: markdown>=2.6.8 in /usr/local/lib/python3.11/dist-packages (from tensorboard<2.19,>=2.18->tensorflow) (3.7)\n",
            "Requirement already satisfied: tensorboard-data-server<0.8.0,>=0.7.0 in /usr/local/lib/python3.11/dist-packages (from tensorboard<2.19,>=2.18->tensorflow) (0.7.2)\n",
            "Requirement already satisfied: werkzeug>=1.0.1 in /usr/local/lib/python3.11/dist-packages (from tensorboard<2.19,>=2.18->tensorflow) (3.1.3)\n",
            "Requirement already satisfied: MarkupSafe>=2.1.1 in /usr/local/lib/python3.11/dist-packages (from werkzeug>=1.0.1->tensorboard<2.19,>=2.18->tensorflow) (3.0.2)\n",
            "Requirement already satisfied: markdown-it-py>=2.2.0 in /usr/local/lib/python3.11/dist-packages (from rich->keras>=3.5.0->tensorflow) (3.0.0)\n",
            "Requirement already satisfied: pygments<3.0.0,>=2.13.0 in /usr/local/lib/python3.11/dist-packages (from rich->keras>=3.5.0->tensorflow) (2.18.0)\n",
            "Requirement already satisfied: mdurl~=0.1 in /usr/local/lib/python3.11/dist-packages (from markdown-it-py>=2.2.0->rich->keras>=3.5.0->tensorflow) (0.1.2)\n",
            "Requirement already satisfied: keras in /usr/local/lib/python3.11/dist-packages (3.8.0)\n",
            "Requirement already satisfied: absl-py in /usr/local/lib/python3.11/dist-packages (from keras) (1.4.0)\n",
            "Requirement already satisfied: numpy in /usr/local/lib/python3.11/dist-packages (from keras) (2.0.2)\n",
            "Requirement already satisfied: rich in /usr/local/lib/python3.11/dist-packages (from keras) (13.9.4)\n",
            "Requirement already satisfied: namex in /usr/local/lib/python3.11/dist-packages (from keras) (0.0.8)\n",
            "Requirement already satisfied: h5py in /usr/local/lib/python3.11/dist-packages (from keras) (3.13.0)\n",
            "Requirement already satisfied: optree in /usr/local/lib/python3.11/dist-packages (from keras) (0.14.1)\n",
            "Requirement already satisfied: ml-dtypes in /usr/local/lib/python3.11/dist-packages (from keras) (0.4.1)\n",
            "Requirement already satisfied: packaging in /usr/local/lib/python3.11/dist-packages (from keras) (24.2)\n",
            "Requirement already satisfied: typing-extensions>=4.5.0 in /usr/local/lib/python3.11/dist-packages (from optree->keras) (4.13.0)\n",
            "Requirement already satisfied: markdown-it-py>=2.2.0 in /usr/local/lib/python3.11/dist-packages (from rich->keras) (3.0.0)\n",
            "Requirement already satisfied: pygments<3.0.0,>=2.13.0 in /usr/local/lib/python3.11/dist-packages (from rich->keras) (2.18.0)\n",
            "Requirement already satisfied: mdurl~=0.1 in /usr/local/lib/python3.11/dist-packages (from markdown-it-py>=2.2.0->rich->keras) (0.1.2)\n"
          ]
        }
      ],
      "source": [
        "# Install dependencies as needed:\n",
        "%pip install kagglehub[pandas-datasets]\n",
        "%pip install imbalanced-learn\n",
        "%pip install nltk\n",
        "%pip install tensorflow\n",
        "%pip install keras"
      ]
    },
    {
      "cell_type": "markdown",
      "metadata": {
        "id": "OY5CJk1Cwbat"
      },
      "source": [
        "Imports"
      ]
    },
    {
      "cell_type": "code",
      "execution_count": 2,
      "metadata": {
        "colab": {
          "base_uri": "https://localhost:8080/"
        },
        "id": "euHWIL54wbaw",
        "outputId": "6eb6fbed-6df8-4426-b82b-f5b61418be80"
      },
      "outputs": [
        {
          "name": "stderr",
          "output_type": "stream",
          "text": [
            "[nltk_data] Downloading package stopwords to /root/nltk_data...\n",
            "[nltk_data]   Unzipping corpora/stopwords.zip.\n",
            "[nltk_data] Downloading package wordnet to /root/nltk_data...\n",
            "[nltk_data] Downloading package punkt_tab to /root/nltk_data...\n",
            "[nltk_data]   Unzipping tokenizers/punkt_tab.zip.\n"
          ]
        }
      ],
      "source": [
        "import kagglehub\n",
        "import csv\n",
        "import numpy as np\n",
        "import pandas as pd\n",
        "import matplotlib.pyplot as plt\n",
        "import re\n",
        "import warnings\n",
        "warnings.filterwarnings('ignore')\n",
        "import matplotlib.pyplot as plt\n",
        "import nltk\n",
        "nltk.download('stopwords')\n",
        "nltk.download('wordnet')\n",
        "nltk.download('punkt_tab')\n",
        "from nltk.corpus import stopwords\n",
        "from nltk.stem import WordNetLemmatizer\n",
        "from nltk.tokenize import word_tokenize\n",
        "from collections import Counter\n",
        "from sklearn.feature_extraction.text import CountVectorizer, TfidfVectorizer\n",
        "from typing import List\n",
        "from sklearn.model_selection import train_test_split\n",
        "from sklearn.naive_bayes import MultinomialNB\n",
        "from sklearn.linear_model import LogisticRegression\n",
        "from sklearn.metrics import accuracy_score, precision_score, recall_score, f1_score, confusion_matrix, ConfusionMatrixDisplay\n",
        "from tensorflow.keras.models import Sequential\n",
        "from tensorflow.keras.layers import Dense, Dropout\n",
        "from tensorflow.keras.callbacks import EarlyStopping\n"
      ]
    },
    {
      "cell_type": "markdown",
      "metadata": {
        "id": "EJ6YuIPhwbaz"
      },
      "source": [
        "Read CSV"
      ]
    },
    {
      "cell_type": "code",
      "execution_count": 3,
      "metadata": {
        "colab": {
          "base_uri": "https://localhost:8080/"
        },
        "id": "BBk7qYI6wba1",
        "outputId": "77ec247b-d424-45c5-a052-8945d7892dd3"
      },
      "outputs": [
        {
          "name": "stdout",
          "output_type": "stream",
          "text": [
            "Warning: Looks like you're using an outdated `kagglehub` version (installed: 0.3.10), please consider upgrading to the latest version (0.3.11).\n",
            "Downloading from https://www.kaggle.com/api/v1/datasets/download/amruthjithrajvr/recruitment-scam?dataset_version_number=3...\n"
          ]
        },
        {
          "name": "stderr",
          "output_type": "stream",
          "text": [
            "100%|██████████| 17.8M/17.8M [00:00<00:00, 42.2MB/s]"
          ]
        },
        {
          "name": "stdout",
          "output_type": "stream",
          "text": [
            "Extracting files...\n"
          ]
        },
        {
          "name": "stderr",
          "output_type": "stream",
          "text": [
            "\n"
          ]
        },
        {
          "name": "stdout",
          "output_type": "stream",
          "text": [
            "Path to dataset files: /root/.cache/kagglehub/datasets/amruthjithrajvr/recruitment-scam/versions/3\n"
          ]
        }
      ],
      "source": [
        "path = kagglehub.dataset_download(\"amruthjithrajvr/recruitment-scam\")\n",
        "print(\"Path to dataset files:\", path)"
      ]
    },
    {
      "cell_type": "code",
      "execution_count": 4,
      "metadata": {
        "id": "x7OZLO4G4yBp"
      },
      "outputs": [],
      "source": [
        "data = pd.read_csv(path + \"/DataSet.csv\")\n",
        "# data = pd.read_csv(\"Dataset.csv\")"
      ]
    },
    {
      "cell_type": "markdown",
      "metadata": {
        "id": "rJNe8VvWwba5"
      },
      "source": [
        "Basic EDA"
      ]
    },
    {
      "cell_type": "code",
      "execution_count": 5,
      "metadata": {
        "colab": {
          "base_uri": "https://localhost:8080/"
        },
        "collapsed": true,
        "id": "DNCNz7Odwba6",
        "outputId": "20f63f20-ff00-4090-ebbf-0af7afb460d1"
      },
      "outputs": [
        {
          "name": "stdout",
          "output_type": "stream",
          "text": [
            "dataset shape: (17880, 18)\n",
            "dataset info:\n",
            "<class 'pandas.core.frame.DataFrame'>\n",
            "RangeIndex: 17880 entries, 0 to 17879\n",
            "Data columns (total 18 columns):\n",
            " #   Column               Non-Null Count  Dtype \n",
            "---  ------               --------------  ----- \n",
            " 0   title                17880 non-null  object\n",
            " 1   location             17534 non-null  object\n",
            " 2   department           6333 non-null   object\n",
            " 3   salary_range         2868 non-null   object\n",
            " 4   company_profile      14572 non-null  object\n",
            " 5   description          17880 non-null  object\n",
            " 6   requirements         15191 non-null  object\n",
            " 7   benefits             10684 non-null  object\n",
            " 8   telecommuting        17880 non-null  object\n",
            " 9   has_company_logo     17880 non-null  object\n",
            " 10  has_questions        17880 non-null  object\n",
            " 11  employment_type      14409 non-null  object\n",
            " 12  required_experience  10830 non-null  object\n",
            " 13  required_education   9775 non-null   object\n",
            " 14  industry             12977 non-null  object\n",
            " 15  function             11425 non-null  object\n",
            " 16  fraudulent           17880 non-null  object\n",
            " 17  in_balanced_dataset  17880 non-null  object\n",
            "dtypes: object(18)\n",
            "memory usage: 2.5+ MB\n",
            "None\n"
          ]
        }
      ],
      "source": [
        "# analyze the dataset\n",
        "print('dataset shape:', data.shape)\n",
        "print('dataset info:')\n",
        "print(data.info())"
      ]
    },
    {
      "cell_type": "code",
      "execution_count": 6,
      "metadata": {
        "colab": {
          "base_uri": "https://localhost:8080/"
        },
        "collapsed": true,
        "id": "-zDk5ZHewba9",
        "outputId": "9d898e6d-79d1-467e-e112-4112cc9eee88"
      },
      "outputs": [
        {
          "name": "stdout",
          "output_type": "stream",
          "text": [
            "null value count:\n",
            "title                      0\n",
            "location                 346\n",
            "department             11547\n",
            "salary_range           15012\n",
            "company_profile         3308\n",
            "description                0\n",
            "requirements            2689\n",
            "benefits                7196\n",
            "telecommuting              0\n",
            "has_company_logo           0\n",
            "has_questions              0\n",
            "employment_type         3471\n",
            "required_experience     7050\n",
            "required_education      8105\n",
            "industry                4903\n",
            "function                6455\n",
            "fraudulent                 0\n",
            "in_balanced_dataset        0\n",
            "dtype: int64\n"
          ]
        }
      ],
      "source": [
        "print('null value count:')\n",
        "print(data.isnull().sum())"
      ]
    },
    {
      "cell_type": "markdown",
      "metadata": {
        "id": "rfusWbpfwbbC"
      },
      "source": [
        "Cleaning Dataset"
      ]
    },
    {
      "cell_type": "code",
      "execution_count": 7,
      "metadata": {
        "id": "wamQFJqOwbbG"
      },
      "outputs": [],
      "source": [
        "def htmlparser(text):\n",
        "    text = re.sub(r'<.*?>', '', str(text))  # remove html tags\n",
        "    text = re.sub(r'[^A-Za-z0-9.,!?;:\\'&-]+', ' ', text)  # remove special characters + non-alphanumeric characters\n",
        "    text = text.replace('\\n', ' ')  # replace newline with space\n",
        "    text = text.strip()\n",
        "    if text == '':\n",
        "        text = 'Unspecified'\n",
        "    return text\n",
        "\n",
        "for column in data.columns:\n",
        "    data[column].fillna(\"Unspecified\", inplace=True)\n",
        "    data[column] = data[column].apply(htmlparser)"
      ]
    },
    {
      "cell_type": "markdown",
      "metadata": {
        "id": "xtgYpk8zwbbI"
      },
      "source": [
        "Handling Categorical Columns"
      ]
    },
    {
      "cell_type": "code",
      "execution_count": 8,
      "metadata": {
        "colab": {
          "base_uri": "https://localhost:8080/"
        },
        "collapsed": true,
        "id": "YZQkNxCtwbbK",
        "outputId": "59542391-ca37-457f-d4d2-970ff97fb425"
      },
      "outputs": [
        {
          "name": "stdout",
          "output_type": "stream",
          "text": [
            "location\n",
            "GB, LND, London          736\n",
            "US, NY, New York         677\n",
            "US, CA, San Francisco    480\n",
            "GR, I, Athens            469\n",
            "Unspecified              346\n",
            "                        ... \n",
            "US, NY, ACRA               1\n",
            "US, CA, sunnyvale          1\n",
            "VN, , Ho Chi Minh          1\n",
            "US, PA, berwyn             1\n",
            "GB, LDS, leeds             1\n",
            "Name: count, Length: 2970, dtype: int64\n",
            "-----------------------\n",
            "department\n",
            "Unspecified                                                  11555\n",
            "Sales                                                          564\n",
            "Engineering                                                    505\n",
            "Marketing                                                      418\n",
            "Operations                                                     275\n",
            "                                                             ...  \n",
            "Development Services                                             1\n",
            "6 locations in the United States, 3 in Canada and 1 in UK        1\n",
            "Credit Strategy                                                  1\n",
            "Styling                                                          1\n",
            "IT Administrator Developer                                       1\n",
            "Name: count, Length: 1271, dtype: int64\n",
            "-----------------------\n",
            "salary_range\n",
            "Unspecified      15012\n",
            "0-0                142\n",
            "40000-50000         66\n",
            "30000-40000         55\n",
            "25000-30000         37\n",
            "                 ...  \n",
            "140-160              1\n",
            "16-20                1\n",
            "50000-95000          1\n",
            "360000-500000        1\n",
            "55000-69000          1\n",
            "Name: count, Length: 875, dtype: int64\n",
            "-----------------------\n",
            "employment_type\n",
            "Full-time      11620\n",
            "Unspecified     3471\n",
            "Contract        1524\n",
            "Part-time        797\n",
            "Temporary        241\n",
            "Other            227\n",
            "Name: count, dtype: int64\n",
            "-----------------------\n",
            "required_experience\n",
            "Unspecified         7050\n",
            "Mid-Senior level    3809\n",
            "Entry level         2697\n",
            "Associate           2297\n",
            "Not Applicable      1116\n",
            "Director             389\n",
            "Internship           381\n",
            "Executive            141\n",
            "Name: count, dtype: int64\n",
            "-----------------------\n",
            "required_education\n",
            "Unspecified                          9502\n",
            "Bachelor's Degree                    5145\n",
            "High School or equivalent            2080\n",
            "Master's Degree                       416\n",
            "Associate Degree                      274\n",
            "Certification                         170\n",
            "Some College Coursework Completed     102\n",
            "Professional                           74\n",
            "Vocational                             49\n",
            "Some High School Coursework            27\n",
            "Doctorate                              26\n",
            "Vocational - HS Diploma                 9\n",
            "Vocational - Degree                     6\n",
            "Name: count, dtype: int64\n",
            "-----------------------\n",
            "industry\n",
            "Unspecified                            4903\n",
            "Information Technology and Services    1734\n",
            "Computer Software                      1376\n",
            "Internet                               1062\n",
            "Marketing and Advertising               828\n",
            "                                       ... \n",
            "Sporting Goods                            1\n",
            "Museums and Institutions                  1\n",
            "Shipbuilding                              1\n",
            "Alternative Dispute Resolution            1\n",
            "Ranching                                  1\n",
            "Name: count, Length: 132, dtype: int64\n",
            "-----------------------\n",
            "function\n",
            "Unspecified               6455\n",
            "Information Technology    1749\n",
            "Sales                     1468\n",
            "Engineering               1348\n",
            "Customer Service          1229\n",
            "Marketing                  830\n",
            "Administrative             630\n",
            "Design                     340\n",
            "Health Care Provider       338\n",
            "Other                      325\n",
            "Education                  325\n",
            "Management                 317\n",
            "Business Development       228\n",
            "Accounting Auditing        212\n",
            "Human Resources            205\n",
            "Project Management         183\n",
            "Finance                    172\n",
            "Consulting                 144\n",
            "Writing Editing            132\n",
            "Art Creative               132\n",
            "Production                 116\n",
            "Product Management         114\n",
            "Quality Assurance          111\n",
            "Advertising                 90\n",
            "Business Analyst            84\n",
            "Data Analyst                82\n",
            "Public Relations            76\n",
            "Manufacturing               74\n",
            "General Business            68\n",
            "Research                    50\n",
            "Legal                       47\n",
            "Strategy Planning           46\n",
            "Training                    38\n",
            "Supply Chain                36\n",
            "Financial Analyst           33\n",
            "Distribution                24\n",
            "Purchasing                  15\n",
            "Science                     14\n",
            "Name: count, dtype: int64\n",
            "-----------------------\n"
          ]
        }
      ],
      "source": [
        "# categorical columns\n",
        "categorical_columns = ['location', 'department', 'salary_range', 'employment_type', 'required_experience', 'required_education', 'industry', 'function']\n",
        "\n",
        "for column in categorical_columns:\n",
        "    print(data[column].value_counts())\n",
        "    print('-----------------------')"
      ]
    },
    {
      "cell_type": "code",
      "execution_count": 9,
      "metadata": {
        "id": "-J1XuQf0wbbM"
      },
      "outputs": [],
      "source": [
        "def clean_location(value):\n",
        "    if isinstance(value, str) and re.match(r'[a-zA-Z0-9]+,\\s?[a-zA-Z0-9]*,\\s?[a-zA-Z0-9. ]*', value): return value\n",
        "    return \"Unspecified\"\n",
        "\n",
        "def clean_department(value):\n",
        "    if isinstance(value, str) and re.match(r\"[\\w\\s]\", value): return value\n",
        "    return \"Unspecified\"\n",
        "\n",
        "def clean_salary_range(value):\n",
        "    if isinstance(value, str) and re.match(r'^\\d+$', value) or re.match(r'^\\d+-\\d+$', value): return value\n",
        "    return \"Unspecified\"\n",
        "\n",
        "def clean_employment_type(value):\n",
        "    if isinstance(value, str) and value.strip().lower() in ['contract', 'full-time', 'part-time', 'temporary', 'other']: return value\n",
        "    return \"Unspecified\"\n",
        "\n",
        "def clean_required_experience(value):\n",
        "    if isinstance(value, str) and value.strip().lower() in ['associate', 'director', 'entry level', 'executive', 'internship', 'mid-senior level', 'not applicable']: return value\n",
        "    return \"Unspecified\"\n",
        "\n",
        "def clean_required_education(value):\n",
        "    if isinstance(value, str) and re.match(r'^[A-Z]', value): return value\n",
        "    return \"Unspecified\"\n",
        "\n",
        "\n",
        "data['location'] = data['location'].apply(clean_location)\n",
        "data['department'] = data['department'].apply(clean_department)\n",
        "data['salary_range'] = data['salary_range'].apply(clean_salary_range)\n",
        "data['employment_type'] = data['employment_type'].apply(clean_employment_type)\n",
        "data['required_experience'] = data['required_experience'].apply(clean_required_experience)\n",
        "data['required_education'] = data['required_education'].apply(clean_required_education)"
      ]
    },
    {
      "cell_type": "markdown",
      "metadata": {
        "id": "MGW7nkAHwbbO"
      },
      "source": [
        "Handling Binary Columns"
      ]
    },
    {
      "cell_type": "code",
      "execution_count": 10,
      "metadata": {
        "id": "NSmHi8PkwbbO"
      },
      "outputs": [],
      "source": [
        "# binary columns\n",
        "binary_columns = ['telecommuting', 'has_company_logo', 'has_questions', 'fraudulent', 'in_balanced_dataset']\n",
        "for column in binary_columns:\n",
        "    data[column] = data[column].replace({'t': 1, 'f': 0})"
      ]
    },
    {
      "cell_type": "code",
      "execution_count": 11,
      "metadata": {
        "colab": {
          "base_uri": "https://localhost:8080/",
          "height": 573
        },
        "collapsed": true,
        "id": "9hgvc-d5wbbQ",
        "outputId": "0f8224c4-997a-4cd4-ba9b-6246ddb31978"
      },
      "outputs": [
        {
          "data": {
            "application/vnd.google.colaboratory.intrinsic+json": {
              "summary": "{\n  \"name\": \"data\",\n  \"rows\": 17880,\n  \"fields\": [\n    {\n      \"column\": \"title\",\n      \"properties\": {\n        \"dtype\": \"string\",\n        \"num_unique_values\": 10867,\n        \"samples\": [\n          \"Implementation Manager for Growing Healthcare IT Startup\",\n          \"iOS Developer netguru\",\n          \"Lighthouse Member Specialist EMEA\"\n        ],\n        \"semantic_type\": \"\",\n        \"description\": \"\"\n      }\n    },\n    {\n      \"column\": \"location\",\n      \"properties\": {\n        \"dtype\": \"category\",\n        \"num_unique_values\": 2954,\n        \"samples\": [\n          \"PL, , REMOTE\",\n          \"GB, ESS, Colchester\",\n          \"US, VA, Sterling\"\n        ],\n        \"semantic_type\": \"\",\n        \"description\": \"\"\n      }\n    },\n    {\n      \"column\": \"department\",\n      \"properties\": {\n        \"dtype\": \"category\",\n        \"num_unique_values\": 1269,\n        \"samples\": [\n          \"New Jersey\",\n          \"Editing\",\n          \"Media Television\"\n        ],\n        \"semantic_type\": \"\",\n        \"description\": \"\"\n      }\n    },\n    {\n      \"column\": \"salary_range\",\n      \"properties\": {\n        \"dtype\": \"category\",\n        \"num_unique_values\": 875,\n        \"samples\": [\n          \"60000-130000\",\n          \"66000-84000\",\n          \"19000-26000\"\n        ],\n        \"semantic_type\": \"\",\n        \"description\": \"\"\n      }\n    },\n    {\n      \"column\": \"company_profile\",\n      \"properties\": {\n        \"dtype\": \"category\",\n        \"num_unique_values\": 1707,\n        \"samples\": [\n          \"Places Senior Technology and Data professionals nationwide with a focus on Software Engineering, Big Data, Analytics, Business Intelligence Data Warehousing, Cloud Computing, DevOps, and Security.Preferred Member of the Top Echelon Network, a professional group of over 600 partner firms, providing access to thousands of positions and candidates nationwide. Subscribe and View Opportunities Analytic Search Group, LLC 174 Nassau Street, 301Princeton, NJ 08542 609 895-9888\",\n          \"Our vision is to be the accountant and financial advisor of choice for medical practitioners across Australia. We are a young, entreupreunerial and driver team focused on delivering the absolute best in customer experience. Tired of providing one-dimensional advice? Tired of product-sales and conflicted advice? Are you looking for a challenging career in fast growing firm? We are MEDIQ. We are a fiercely independent, holistic advice firm with a niche client profile of high net worth professionals. If this appeals to you - we look forward to catching up for a coffee to talk about opportunities to work together.\",\n          \"Human Resource Solutions for the Consulting Staffing Outsourcing Industries\"\n        ],\n        \"semantic_type\": \"\",\n        \"description\": \"\"\n      }\n    },\n    {\n      \"column\": \"description\",\n      \"properties\": {\n        \"dtype\": \"string\",\n        \"num_unique_values\": 14523,\n        \"samples\": [\n          \"The purpose of the Sales Training function is to make sure that all front sales personnel is properly trained in all products, systems and processes, as well as in selling techniques and core sales competencies. Sales Training is a service function whose ultimate goal is to initiate change and identify opportunities on enhancing customer experience in a consistent way across all Channels and Locations of the Group s Sales Network. Major Responsibilities: Execute the Annual Training Plan at all levels of sales force Support and facilitate the Sales Regional Managers in building and improving their skills in coaching the sales reps, analyzing sales performance and providing direction for the agents Monitor and assess quarter performance evaluation scores for the sales team Deliver classroom trainings on sales techniques, negotiation skills, sales management, store planograms, merchandising, cross-functional team cooperation, internal customer external customer, leadership skills and coaching skills and market analysis Monitor the smooth implementation of sales training systems used in the sales department and provide relevant support Follow-up and assess impact of sales training systems Perform induction training for new employees company and commercial information Cooperate with Trade Marketing and Sales Regional Managers for the development of commercial material sales organizer, market survey material, profit story for agents Perform quarter meetings with Sales Regional Managers to evaluate and discuss sales team performance and take action where needed Co-ordinate and control the effective allocation of overall sales training budget Keep a database with training providers and the relevant training solutions they provide Design, develop and deliver on-the-job training and support to Sales Reps Develop internal trainers, conduct and organize relevant train-the-trainer sessions Patiently show trainees from basic customer care and selling skills, to advanced techniques in order to contribute to the company s sales targets Be a genuinely inspiring teacher, energized to motivate the team of trainees Perform relevant training to agents on all issues of new products, relaunches of existing products, new information, merchandising programs and placement of POS material\",\n          \"The Site Safety and Health Officer is responsible for ensuring the overall working conditions compliance with local and corporate occupational safety and health regulations and procedures. Responsibilities may include inspecting machinery, equipment and other working conditions in project sites. Observes workers to determine use of prescribed and proper safety equipment, such as glasses, helmets, respirators, fall protection and clothing. Addresses EHS issues as the site s lead person. Major Duties &amp; Responsibilities Include: Directs and administers specific functions of the EHS program at the company or project level. Creates, evaluates, educates, and administers the EHS program for all levels of employees. Conducts surveys, evaluations, inspections, and investigations of incidents and activities without supervision. Gathers information and correlates data. Able to perform all aspects of EHS training. Ability to run multi-projects on one site. Additional Duties &amp; Responsibilities: Refines working knowledge of EHS programs by applying EHS procedures. Direct and supervise the activities of subordinates. Participates in monitoring and controlling EHS standards. Prepares, maintains, and retrieves records, reports, or documents that may be required to meet corporate or regulatory requirements, including monitoring application of EHS standards. Promotes EHS awareness and fosters this awareness throughout the company, project or office. Promotes the IFE Culture between clients, co-workers and subcontractors. Supports all IFE Committee Initiatives on site. Performs other duties as assigned.\",\n          \"My client is a fun, growing, global online retailer, seeking a hands-on Retention analytics manager. This is an individual contributor role who can eventually grow a team. You will create analytical solutions to develop, implement and measure CRM strategies. In addition to data extraction and manipulation, you will create predictive models, analysis, reports and insights from the results in order to develop actionable recommendations for the business. Projects will include: segmentation, lifetime value LTV , offer targeting, upsell cross-sell optimization\"\n        ],\n        \"semantic_type\": \"\",\n        \"description\": \"\"\n      }\n    },\n    {\n      \"column\": \"requirements\",\n      \"properties\": {\n        \"dtype\": \"string\",\n        \"num_unique_values\": 11821,\n        \"samples\": [\n          \"Essential Duties and Responsibilities: Works closely with other developers and our design team to drive the evolution and expansion of our current product suite. Apply knowledge of Single Page Application web technologies, methodologies, processes and tools to carefully analyze and test software. Conceptualize new software for the company that may expand the suite of products currently offered. Re-factor current application design and or implementation to support application enhancement requests. Use design patterns to solve application issues. Create reusable libraries and application service frameworks. Evaluate and research latest technologies. Support production issues. Support software applications to resolve any defects and issues reported. Resolve application performance and scalability issues by identifying the bottle-necks, memory leaks and key areas of improvement. Conduct research on emerging application service development software products, languages and standards in support of procurement and development efforts. Minimum Qualifications: BS MS in computer science The more of these you know its better Frameworks: Angular, Ember, D3, Durandal Environments: JVM, AWS, Rackspace cloud Protocols: HTTP, SSL, HTML Languages: Ruby, Python, Perl, Java, Bash, Groovy, javascript, html5,css3 Persistence: Hibernate, Postgres, Amazon S3, MySQL, Cassandra Graph Systems Operations: Puppet, Chef , Capistrano, mcollective, Cloudformation, OpenStack, Docker, cfengine, rightscale Caching: memcached, ehcache, CDN Principles: REST, DRY, TDD, Agile, Django frameworks - atleast one is MUST Design Patterns, Data Modeling , TDD Paired programing, SVN Git Agile Test frameworks: Watir, Junit, Selenium, Nose, Team City 6 years experience in application development\",\n          \"Desired Skills and Experience Exceptional ability to build rapport both internally and externally Proven ability to successful manage and lead large pitches with multiple stakeholders and varying levels. Experience managing pipeline within a CRM Experience working with a digital, technology, digital, marketing industry. Ability to coordinate, lead, motivate teams to ensure delivery of pitches, RFP etc. Excellent organisational skills and a high level to attention to detail Very good written and verbal communication skills incl. report writing Ability to multitask You are: Passionate about business, able to see the bigger picture Able to match your tone and pitch to suit your audience Self aware; Recognising and understanding why things go well, and also when they don't Squiz actively works to build and maintain our culture called Squiz's DNA which values people who: Are capable, reliable and responsible Roll-up-their-sleeves and are always willing to lend a hand without being afraid of work Are trustworthy and honorable being a bit cheeky is OK Maintain a constructive and positive outlook i.e. They give energy to others rather than weigh things down Are able to laugh at themselves Are team players not egoists Are straight shooters have no time for jerks\",\n          \"Experience in: Providing administrative support to high-level executive; developing and maintaining effective working relationships; working independently; maintain muliple calendars; composing professional correspondence and reports; utilizing organizational skills; customer service; Microsoft Office Access, Excel, Work, Outlook, PowerPoint ; coordinating travel; transcribing minutes. Evidence in effective written and verbal communication skills.\"\n        ],\n        \"semantic_type\": \"\",\n        \"description\": \"\"\n      }\n    },\n    {\n      \"column\": \"benefits\",\n      \"properties\": {\n        \"dtype\": \"category\",\n        \"num_unique_values\": 5933,\n        \"samples\": [\n          \"Both Options: Permanent Full Time Job with Benefits Contract Job on W2 or C2C\",\n          \"We Provide - Complete online training and office support - Flexible working environment - An exciting and lucrative opportunity for those with a proven results background - Average yearly income of 150- 175,000 based on our straight commission compensation model\",\n          \"Our offer: If you are seeking a career in an exciting and dynamic company, where you will offer your services as part of a team of a major European Institution, operating in an international, multilingual and multicultural environment where you can expect real chances to make a difference, please send us your detailed CV in English, quoting reference: PBD 08 14 , to the following e-mail address: EMAIL e8efcf62a68b682bfb8fcc86c8c05ec5b0b8c9afa3310079ab513dbf73ccfd25 . We offer a competitive remuneration either on contract basis or remuneration with full benefits package , based on qualifications and experience. All applications will be treated as confidential. You may also consider all our other open vacancies by visiting the career section of our web site URL c66532ffa1ce76ab447da6774719060c42c584edbf44d74cdb94fc4ac219ca45 and follow us on Twitter EURODYN Careers and LinkedIn.\"\n        ],\n        \"semantic_type\": \"\",\n        \"description\": \"\"\n      }\n    },\n    {\n      \"column\": \"telecommuting\",\n      \"properties\": {\n        \"dtype\": \"number\",\n        \"std\": 0,\n        \"min\": 0,\n        \"max\": 1,\n        \"num_unique_values\": 2,\n        \"samples\": [\n          1,\n          0\n        ],\n        \"semantic_type\": \"\",\n        \"description\": \"\"\n      }\n    },\n    {\n      \"column\": \"has_company_logo\",\n      \"properties\": {\n        \"dtype\": \"number\",\n        \"std\": 0,\n        \"min\": 0,\n        \"max\": 1,\n        \"num_unique_values\": 2,\n        \"samples\": [\n          0,\n          1\n        ],\n        \"semantic_type\": \"\",\n        \"description\": \"\"\n      }\n    },\n    {\n      \"column\": \"has_questions\",\n      \"properties\": {\n        \"dtype\": \"number\",\n        \"std\": 0,\n        \"min\": 0,\n        \"max\": 1,\n        \"num_unique_values\": 2,\n        \"samples\": [\n          1,\n          0\n        ],\n        \"semantic_type\": \"\",\n        \"description\": \"\"\n      }\n    },\n    {\n      \"column\": \"employment_type\",\n      \"properties\": {\n        \"dtype\": \"category\",\n        \"num_unique_values\": 6,\n        \"samples\": [\n          \"Other\",\n          \"Full-time\"\n        ],\n        \"semantic_type\": \"\",\n        \"description\": \"\"\n      }\n    },\n    {\n      \"column\": \"required_experience\",\n      \"properties\": {\n        \"dtype\": \"category\",\n        \"num_unique_values\": 8,\n        \"samples\": [\n          \"Not Applicable\",\n          \"Entry level\"\n        ],\n        \"semantic_type\": \"\",\n        \"description\": \"\"\n      }\n    },\n    {\n      \"column\": \"required_education\",\n      \"properties\": {\n        \"dtype\": \"category\",\n        \"num_unique_values\": 13,\n        \"samples\": [\n          \"Vocational - Degree\",\n          \"Doctorate\"\n        ],\n        \"semantic_type\": \"\",\n        \"description\": \"\"\n      }\n    },\n    {\n      \"column\": \"industry\",\n      \"properties\": {\n        \"dtype\": \"category\",\n        \"num_unique_values\": 132,\n        \"samples\": [\n          \"Publishing\",\n          \"Graphic Design\"\n        ],\n        \"semantic_type\": \"\",\n        \"description\": \"\"\n      }\n    },\n    {\n      \"column\": \"function\",\n      \"properties\": {\n        \"dtype\": \"category\",\n        \"num_unique_values\": 38,\n        \"samples\": [\n          \"Distribution\",\n          \"Purchasing\"\n        ],\n        \"semantic_type\": \"\",\n        \"description\": \"\"\n      }\n    },\n    {\n      \"column\": \"fraudulent\",\n      \"properties\": {\n        \"dtype\": \"number\",\n        \"std\": 0,\n        \"min\": 0,\n        \"max\": 1,\n        \"num_unique_values\": 2,\n        \"samples\": [\n          1,\n          0\n        ],\n        \"semantic_type\": \"\",\n        \"description\": \"\"\n      }\n    },\n    {\n      \"column\": \"in_balanced_dataset\",\n      \"properties\": {\n        \"dtype\": \"number\",\n        \"std\": 0,\n        \"min\": 0,\n        \"max\": 1,\n        \"num_unique_values\": 2,\n        \"samples\": [\n          1,\n          0\n        ],\n        \"semantic_type\": \"\",\n        \"description\": \"\"\n      }\n    }\n  ]\n}",
              "type": "dataframe",
              "variable_name": "data"
            },
            "text/html": [
              "\n",
              "  <div id=\"df-8702f631-60dc-4799-ba58-c2393bfe28a2\" class=\"colab-df-container\">\n",
              "    <div>\n",
              "<style scoped>\n",
              "    .dataframe tbody tr th:only-of-type {\n",
              "        vertical-align: middle;\n",
              "    }\n",
              "\n",
              "    .dataframe tbody tr th {\n",
              "        vertical-align: top;\n",
              "    }\n",
              "\n",
              "    .dataframe thead th {\n",
              "        text-align: right;\n",
              "    }\n",
              "</style>\n",
              "<table border=\"1\" class=\"dataframe\">\n",
              "  <thead>\n",
              "    <tr style=\"text-align: right;\">\n",
              "      <th></th>\n",
              "      <th>title</th>\n",
              "      <th>location</th>\n",
              "      <th>department</th>\n",
              "      <th>salary_range</th>\n",
              "      <th>company_profile</th>\n",
              "      <th>description</th>\n",
              "      <th>requirements</th>\n",
              "      <th>benefits</th>\n",
              "      <th>telecommuting</th>\n",
              "      <th>has_company_logo</th>\n",
              "      <th>has_questions</th>\n",
              "      <th>employment_type</th>\n",
              "      <th>required_experience</th>\n",
              "      <th>required_education</th>\n",
              "      <th>industry</th>\n",
              "      <th>function</th>\n",
              "      <th>fraudulent</th>\n",
              "      <th>in_balanced_dataset</th>\n",
              "    </tr>\n",
              "  </thead>\n",
              "  <tbody>\n",
              "    <tr>\n",
              "      <th>0</th>\n",
              "      <td>Marketing Intern</td>\n",
              "      <td>US, NY, New York</td>\n",
              "      <td>Marketing</td>\n",
              "      <td>Unspecified</td>\n",
              "      <td>We're Food52, and we've created a groundbreaki...</td>\n",
              "      <td>Food52, a fast-growing, James Beard Award-winn...</td>\n",
              "      <td>Experience with content management systems a m...</td>\n",
              "      <td>Unspecified</td>\n",
              "      <td>0</td>\n",
              "      <td>1</td>\n",
              "      <td>0</td>\n",
              "      <td>Other</td>\n",
              "      <td>Internship</td>\n",
              "      <td>Unspecified</td>\n",
              "      <td>Unspecified</td>\n",
              "      <td>Marketing</td>\n",
              "      <td>0</td>\n",
              "      <td>0</td>\n",
              "    </tr>\n",
              "    <tr>\n",
              "      <th>1</th>\n",
              "      <td>Customer Service - Cloud Video Production</td>\n",
              "      <td>NZ, , Auckland</td>\n",
              "      <td>Success</td>\n",
              "      <td>Unspecified</td>\n",
              "      <td>90 Seconds, the worlds Cloud Video Production ...</td>\n",
              "      <td>Organised - Focused - Vibrant - Awesome!Do you...</td>\n",
              "      <td>What we expect from you: Your key responsibili...</td>\n",
              "      <td>What you will get from us Through being part o...</td>\n",
              "      <td>0</td>\n",
              "      <td>1</td>\n",
              "      <td>0</td>\n",
              "      <td>Full-time</td>\n",
              "      <td>Not Applicable</td>\n",
              "      <td>Unspecified</td>\n",
              "      <td>Marketing and Advertising</td>\n",
              "      <td>Customer Service</td>\n",
              "      <td>0</td>\n",
              "      <td>0</td>\n",
              "    </tr>\n",
              "    <tr>\n",
              "      <th>2</th>\n",
              "      <td>Commissioning Machinery Assistant CMA</td>\n",
              "      <td>US, IA, Wever</td>\n",
              "      <td>Unspecified</td>\n",
              "      <td>Unspecified</td>\n",
              "      <td>Valor Services provides Workforce Solutions th...</td>\n",
              "      <td>Our client, located in Houston, is actively se...</td>\n",
              "      <td>Implement pre-commissioning and commissioning ...</td>\n",
              "      <td>Unspecified</td>\n",
              "      <td>0</td>\n",
              "      <td>1</td>\n",
              "      <td>0</td>\n",
              "      <td>Unspecified</td>\n",
              "      <td>Unspecified</td>\n",
              "      <td>Unspecified</td>\n",
              "      <td>Unspecified</td>\n",
              "      <td>Unspecified</td>\n",
              "      <td>0</td>\n",
              "      <td>0</td>\n",
              "    </tr>\n",
              "    <tr>\n",
              "      <th>3</th>\n",
              "      <td>Account Executive - Washington DC</td>\n",
              "      <td>US, DC, Washington</td>\n",
              "      <td>Sales</td>\n",
              "      <td>Unspecified</td>\n",
              "      <td>Our passion for improving quality of life thro...</td>\n",
              "      <td>THE COMPANY: ESRI Environmental Systems Resear...</td>\n",
              "      <td>EDUCATION: Bachelor s or Master s in GIS, busi...</td>\n",
              "      <td>Our culture is anything but corporate we have ...</td>\n",
              "      <td>0</td>\n",
              "      <td>1</td>\n",
              "      <td>0</td>\n",
              "      <td>Full-time</td>\n",
              "      <td>Mid-Senior level</td>\n",
              "      <td>Bachelor's Degree</td>\n",
              "      <td>Computer Software</td>\n",
              "      <td>Sales</td>\n",
              "      <td>0</td>\n",
              "      <td>0</td>\n",
              "    </tr>\n",
              "    <tr>\n",
              "      <th>4</th>\n",
              "      <td>Bill Review Manager</td>\n",
              "      <td>US, FL, Fort Worth</td>\n",
              "      <td>Unspecified</td>\n",
              "      <td>Unspecified</td>\n",
              "      <td>SpotSource Solutions LLC is a Global Human Cap...</td>\n",
              "      <td>JOB TITLE: Itemization Review Manager LOCATION...</td>\n",
              "      <td>QUALIFICATIONS: RN license in the State of Tex...</td>\n",
              "      <td>Full Benefits Offered</td>\n",
              "      <td>0</td>\n",
              "      <td>1</td>\n",
              "      <td>1</td>\n",
              "      <td>Full-time</td>\n",
              "      <td>Mid-Senior level</td>\n",
              "      <td>Bachelor's Degree</td>\n",
              "      <td>Hospital &amp; Health Care</td>\n",
              "      <td>Health Care Provider</td>\n",
              "      <td>0</td>\n",
              "      <td>0</td>\n",
              "    </tr>\n",
              "  </tbody>\n",
              "</table>\n",
              "</div>\n",
              "    <div class=\"colab-df-buttons\">\n",
              "\n",
              "  <div class=\"colab-df-container\">\n",
              "    <button class=\"colab-df-convert\" onclick=\"convertToInteractive('df-8702f631-60dc-4799-ba58-c2393bfe28a2')\"\n",
              "            title=\"Convert this dataframe to an interactive table.\"\n",
              "            style=\"display:none;\">\n",
              "\n",
              "  <svg xmlns=\"http://www.w3.org/2000/svg\" height=\"24px\" viewBox=\"0 -960 960 960\">\n",
              "    <path d=\"M120-120v-720h720v720H120Zm60-500h600v-160H180v160Zm220 220h160v-160H400v160Zm0 220h160v-160H400v160ZM180-400h160v-160H180v160Zm440 0h160v-160H620v160ZM180-180h160v-160H180v160Zm440 0h160v-160H620v160Z\"/>\n",
              "  </svg>\n",
              "    </button>\n",
              "\n",
              "  <style>\n",
              "    .colab-df-container {\n",
              "      display:flex;\n",
              "      gap: 12px;\n",
              "    }\n",
              "\n",
              "    .colab-df-convert {\n",
              "      background-color: #E8F0FE;\n",
              "      border: none;\n",
              "      border-radius: 50%;\n",
              "      cursor: pointer;\n",
              "      display: none;\n",
              "      fill: #1967D2;\n",
              "      height: 32px;\n",
              "      padding: 0 0 0 0;\n",
              "      width: 32px;\n",
              "    }\n",
              "\n",
              "    .colab-df-convert:hover {\n",
              "      background-color: #E2EBFA;\n",
              "      box-shadow: 0px 1px 2px rgba(60, 64, 67, 0.3), 0px 1px 3px 1px rgba(60, 64, 67, 0.15);\n",
              "      fill: #174EA6;\n",
              "    }\n",
              "\n",
              "    .colab-df-buttons div {\n",
              "      margin-bottom: 4px;\n",
              "    }\n",
              "\n",
              "    [theme=dark] .colab-df-convert {\n",
              "      background-color: #3B4455;\n",
              "      fill: #D2E3FC;\n",
              "    }\n",
              "\n",
              "    [theme=dark] .colab-df-convert:hover {\n",
              "      background-color: #434B5C;\n",
              "      box-shadow: 0px 1px 3px 1px rgba(0, 0, 0, 0.15);\n",
              "      filter: drop-shadow(0px 1px 2px rgba(0, 0, 0, 0.3));\n",
              "      fill: #FFFFFF;\n",
              "    }\n",
              "  </style>\n",
              "\n",
              "    <script>\n",
              "      const buttonEl =\n",
              "        document.querySelector('#df-8702f631-60dc-4799-ba58-c2393bfe28a2 button.colab-df-convert');\n",
              "      buttonEl.style.display =\n",
              "        google.colab.kernel.accessAllowed ? 'block' : 'none';\n",
              "\n",
              "      async function convertToInteractive(key) {\n",
              "        const element = document.querySelector('#df-8702f631-60dc-4799-ba58-c2393bfe28a2');\n",
              "        const dataTable =\n",
              "          await google.colab.kernel.invokeFunction('convertToInteractive',\n",
              "                                                    [key], {});\n",
              "        if (!dataTable) return;\n",
              "\n",
              "        const docLinkHtml = 'Like what you see? Visit the ' +\n",
              "          '<a target=\"_blank\" href=https://colab.research.google.com/notebooks/data_table.ipynb>data table notebook</a>'\n",
              "          + ' to learn more about interactive tables.';\n",
              "        element.innerHTML = '';\n",
              "        dataTable['output_type'] = 'display_data';\n",
              "        await google.colab.output.renderOutput(dataTable, element);\n",
              "        const docLink = document.createElement('div');\n",
              "        docLink.innerHTML = docLinkHtml;\n",
              "        element.appendChild(docLink);\n",
              "      }\n",
              "    </script>\n",
              "  </div>\n",
              "\n",
              "\n",
              "<div id=\"df-f6a862ff-2163-4b2c-b4ff-b2df7a90174e\">\n",
              "  <button class=\"colab-df-quickchart\" onclick=\"quickchart('df-f6a862ff-2163-4b2c-b4ff-b2df7a90174e')\"\n",
              "            title=\"Suggest charts\"\n",
              "            style=\"display:none;\">\n",
              "\n",
              "<svg xmlns=\"http://www.w3.org/2000/svg\" height=\"24px\"viewBox=\"0 0 24 24\"\n",
              "     width=\"24px\">\n",
              "    <g>\n",
              "        <path d=\"M19 3H5c-1.1 0-2 .9-2 2v14c0 1.1.9 2 2 2h14c1.1 0 2-.9 2-2V5c0-1.1-.9-2-2-2zM9 17H7v-7h2v7zm4 0h-2V7h2v10zm4 0h-2v-4h2v4z\"/>\n",
              "    </g>\n",
              "</svg>\n",
              "  </button>\n",
              "\n",
              "<style>\n",
              "  .colab-df-quickchart {\n",
              "      --bg-color: #E8F0FE;\n",
              "      --fill-color: #1967D2;\n",
              "      --hover-bg-color: #E2EBFA;\n",
              "      --hover-fill-color: #174EA6;\n",
              "      --disabled-fill-color: #AAA;\n",
              "      --disabled-bg-color: #DDD;\n",
              "  }\n",
              "\n",
              "  [theme=dark] .colab-df-quickchart {\n",
              "      --bg-color: #3B4455;\n",
              "      --fill-color: #D2E3FC;\n",
              "      --hover-bg-color: #434B5C;\n",
              "      --hover-fill-color: #FFFFFF;\n",
              "      --disabled-bg-color: #3B4455;\n",
              "      --disabled-fill-color: #666;\n",
              "  }\n",
              "\n",
              "  .colab-df-quickchart {\n",
              "    background-color: var(--bg-color);\n",
              "    border: none;\n",
              "    border-radius: 50%;\n",
              "    cursor: pointer;\n",
              "    display: none;\n",
              "    fill: var(--fill-color);\n",
              "    height: 32px;\n",
              "    padding: 0;\n",
              "    width: 32px;\n",
              "  }\n",
              "\n",
              "  .colab-df-quickchart:hover {\n",
              "    background-color: var(--hover-bg-color);\n",
              "    box-shadow: 0 1px 2px rgba(60, 64, 67, 0.3), 0 1px 3px 1px rgba(60, 64, 67, 0.15);\n",
              "    fill: var(--button-hover-fill-color);\n",
              "  }\n",
              "\n",
              "  .colab-df-quickchart-complete:disabled,\n",
              "  .colab-df-quickchart-complete:disabled:hover {\n",
              "    background-color: var(--disabled-bg-color);\n",
              "    fill: var(--disabled-fill-color);\n",
              "    box-shadow: none;\n",
              "  }\n",
              "\n",
              "  .colab-df-spinner {\n",
              "    border: 2px solid var(--fill-color);\n",
              "    border-color: transparent;\n",
              "    border-bottom-color: var(--fill-color);\n",
              "    animation:\n",
              "      spin 1s steps(1) infinite;\n",
              "  }\n",
              "\n",
              "  @keyframes spin {\n",
              "    0% {\n",
              "      border-color: transparent;\n",
              "      border-bottom-color: var(--fill-color);\n",
              "      border-left-color: var(--fill-color);\n",
              "    }\n",
              "    20% {\n",
              "      border-color: transparent;\n",
              "      border-left-color: var(--fill-color);\n",
              "      border-top-color: var(--fill-color);\n",
              "    }\n",
              "    30% {\n",
              "      border-color: transparent;\n",
              "      border-left-color: var(--fill-color);\n",
              "      border-top-color: var(--fill-color);\n",
              "      border-right-color: var(--fill-color);\n",
              "    }\n",
              "    40% {\n",
              "      border-color: transparent;\n",
              "      border-right-color: var(--fill-color);\n",
              "      border-top-color: var(--fill-color);\n",
              "    }\n",
              "    60% {\n",
              "      border-color: transparent;\n",
              "      border-right-color: var(--fill-color);\n",
              "    }\n",
              "    80% {\n",
              "      border-color: transparent;\n",
              "      border-right-color: var(--fill-color);\n",
              "      border-bottom-color: var(--fill-color);\n",
              "    }\n",
              "    90% {\n",
              "      border-color: transparent;\n",
              "      border-bottom-color: var(--fill-color);\n",
              "    }\n",
              "  }\n",
              "</style>\n",
              "\n",
              "  <script>\n",
              "    async function quickchart(key) {\n",
              "      const quickchartButtonEl =\n",
              "        document.querySelector('#' + key + ' button');\n",
              "      quickchartButtonEl.disabled = true;  // To prevent multiple clicks.\n",
              "      quickchartButtonEl.classList.add('colab-df-spinner');\n",
              "      try {\n",
              "        const charts = await google.colab.kernel.invokeFunction(\n",
              "            'suggestCharts', [key], {});\n",
              "      } catch (error) {\n",
              "        console.error('Error during call to suggestCharts:', error);\n",
              "      }\n",
              "      quickchartButtonEl.classList.remove('colab-df-spinner');\n",
              "      quickchartButtonEl.classList.add('colab-df-quickchart-complete');\n",
              "    }\n",
              "    (() => {\n",
              "      let quickchartButtonEl =\n",
              "        document.querySelector('#df-f6a862ff-2163-4b2c-b4ff-b2df7a90174e button');\n",
              "      quickchartButtonEl.style.display =\n",
              "        google.colab.kernel.accessAllowed ? 'block' : 'none';\n",
              "    })();\n",
              "  </script>\n",
              "</div>\n",
              "\n",
              "    </div>\n",
              "  </div>\n"
            ],
            "text/plain": [
              "                                       title            location   department  \\\n",
              "0                           Marketing Intern    US, NY, New York    Marketing   \n",
              "1  Customer Service - Cloud Video Production      NZ, , Auckland      Success   \n",
              "2      Commissioning Machinery Assistant CMA       US, IA, Wever  Unspecified   \n",
              "3          Account Executive - Washington DC  US, DC, Washington        Sales   \n",
              "4                        Bill Review Manager  US, FL, Fort Worth  Unspecified   \n",
              "\n",
              "  salary_range                                    company_profile  \\\n",
              "0  Unspecified  We're Food52, and we've created a groundbreaki...   \n",
              "1  Unspecified  90 Seconds, the worlds Cloud Video Production ...   \n",
              "2  Unspecified  Valor Services provides Workforce Solutions th...   \n",
              "3  Unspecified  Our passion for improving quality of life thro...   \n",
              "4  Unspecified  SpotSource Solutions LLC is a Global Human Cap...   \n",
              "\n",
              "                                         description  \\\n",
              "0  Food52, a fast-growing, James Beard Award-winn...   \n",
              "1  Organised - Focused - Vibrant - Awesome!Do you...   \n",
              "2  Our client, located in Houston, is actively se...   \n",
              "3  THE COMPANY: ESRI Environmental Systems Resear...   \n",
              "4  JOB TITLE: Itemization Review Manager LOCATION...   \n",
              "\n",
              "                                        requirements  \\\n",
              "0  Experience with content management systems a m...   \n",
              "1  What we expect from you: Your key responsibili...   \n",
              "2  Implement pre-commissioning and commissioning ...   \n",
              "3  EDUCATION: Bachelor s or Master s in GIS, busi...   \n",
              "4  QUALIFICATIONS: RN license in the State of Tex...   \n",
              "\n",
              "                                            benefits  telecommuting  \\\n",
              "0                                        Unspecified              0   \n",
              "1  What you will get from us Through being part o...              0   \n",
              "2                                        Unspecified              0   \n",
              "3  Our culture is anything but corporate we have ...              0   \n",
              "4                              Full Benefits Offered              0   \n",
              "\n",
              "   has_company_logo  has_questions employment_type required_experience  \\\n",
              "0                 1              0           Other          Internship   \n",
              "1                 1              0       Full-time      Not Applicable   \n",
              "2                 1              0     Unspecified         Unspecified   \n",
              "3                 1              0       Full-time    Mid-Senior level   \n",
              "4                 1              1       Full-time    Mid-Senior level   \n",
              "\n",
              "  required_education                   industry              function  \\\n",
              "0        Unspecified                Unspecified             Marketing   \n",
              "1        Unspecified  Marketing and Advertising      Customer Service   \n",
              "2        Unspecified                Unspecified           Unspecified   \n",
              "3  Bachelor's Degree          Computer Software                 Sales   \n",
              "4  Bachelor's Degree     Hospital & Health Care  Health Care Provider   \n",
              "\n",
              "   fraudulent  in_balanced_dataset  \n",
              "0           0                    0  \n",
              "1           0                    0  \n",
              "2           0                    0  \n",
              "3           0                    0  \n",
              "4           0                    0  "
            ]
          },
          "execution_count": 11,
          "metadata": {},
          "output_type": "execute_result"
        }
      ],
      "source": [
        "data.head()"
      ]
    },
    {
      "cell_type": "code",
      "execution_count": null,
      "metadata": {
        "id": "Nbx9jrYOwbbS"
      },
      "outputs": [],
      "source": [
        "# data.to_csv(\"dataset_cleaned.csv\", index=False)"
      ]
    },
    {
      "cell_type": "markdown",
      "metadata": {
        "id": "SM_7hysHwbbT"
      },
      "source": [
        "Handling Text Description Columns"
      ]
    },
    {
      "cell_type": "code",
      "execution_count": 12,
      "metadata": {
        "id": "cwkLTFPwwbbU"
      },
      "outputs": [],
      "source": [
        "# text columns\n",
        "text_columns = ['title', 'company_profile', 'description', 'requirements', 'benefits']"
      ]
    },
    {
      "cell_type": "code",
      "execution_count": 13,
      "metadata": {
        "colab": {
          "base_uri": "https://localhost:8080/"
        },
        "id": "AxpW2MICwbbV",
        "outputId": "a37f5cee-c0b7-4a6a-d436-c0b6ce6f4b38"
      },
      "outputs": [
        {
          "name": "stdout",
          "output_type": "stream",
          "text": [
            "0    marketing intern food52 weve created groundbre...\n",
            "1    customer service cloud video production 90 sec...\n",
            "2    commissioning machinery assistant cma valor se...\n",
            "3    account executive washington dc passion improv...\n",
            "4    bill review manager spotsource solution llc gl...\n",
            "Name: combined_text, dtype: object\n"
          ]
        }
      ],
      "source": [
        "for col in text_columns:\n",
        "    data[col] = data[col].replace(\"Unspecified\", \"\")\n",
        "\n",
        "stop_words = stopwords.words('english')\n",
        "lemmatizer = WordNetLemmatizer()\n",
        "\n",
        "def punctuation_remover(strings: List[str]) -> List[str]:\n",
        "    cleaned_strings = []\n",
        "    for string in strings:\n",
        "        cleaned_string = re.sub(r'[^\\w\\s]', '', string)\n",
        "        cleaned_strings.append(cleaned_string)\n",
        "    return cleaned_strings\n",
        "\n",
        "\n",
        "def preprocess_text(text: str) -> str:\n",
        "       text = text.lower()\n",
        "       text = punctuation_remover([text])[0]\n",
        "       text = re.sub(r'\\s+', ' ', text).strip()\n",
        "       tokens = word_tokenize(text)\n",
        "       tokens = [lemmatizer.lemmatize(word) for word in tokens if word not in stop_words]\n",
        "       return ' '.join(tokens)\n",
        "\n",
        "\n",
        "for col in text_columns:\n",
        "    data[col] = data[col].apply(preprocess_text)\n",
        "\n",
        "# Combining all text columns into one feature\n",
        "data['combined_text'] = data[text_columns].apply(lambda row: \" \".join(row), axis=1)\n",
        "print(data['combined_text'].head())"
      ]
    },
    {
      "cell_type": "code",
      "execution_count": 14,
      "metadata": {
        "colab": {
          "base_uri": "https://localhost:8080/"
        },
        "id": "yIZ-kr7jcWrR",
        "outputId": "f3fb6bbd-d697-4a85-896c-6f7c2933f759"
      },
      "outputs": [
        {
          "name": "stdout",
          "output_type": "stream",
          "text": [
            "Top Fraudulent Words: [('work', 1740), ('experience', 1673), ('skill', 1349), ('service', 1278), ('customer', 1077), ('company', 993), ('amp', 983), ('team', 967), ('product', 936), ('position', 926), ('project', 857), ('system', 771), ('business', 767), ('ability', 762), ('management', 738), ('year', 722), ('time', 699), ('data', 642), ('engineering', 629), ('job', 627)]\n",
            "Top Non-Fraudulent Words: [('experience', 47271), ('team', 39242), ('work', 38873), ('false', 33105), ('service', 29256), ('company', 29238), ('customer', 27106), ('skill', 24330), ('business', 24272), ('client', 21095), ('product', 20410), ('year', 18077), ('ability', 17568), ('new', 17478), ('development', 17039), ('management', 17022), ('sale', 16586), ('working', 16103), ('project', 15455), ('job', 15437)]\n"
          ]
        }
      ],
      "source": [
        "fraud_words = Counter(\" \".join(data[data['fraudulent'] == 1]['combined_text']).split())\n",
        "non_fraud_words = Counter(\" \".join(data[data['fraudulent'] == 0]['combined_text']).split())\n",
        "\n",
        "fraud_common = fraud_words.most_common(20)\n",
        "non_fraud_common = non_fraud_words.most_common(20)\n",
        "\n",
        "print(\"Top Fraudulent Words:\", fraud_common)\n",
        "print(\"Top Non-Fraudulent Words:\", non_fraud_common)"
      ]
    },
    {
      "cell_type": "markdown",
      "metadata": {
        "id": "4quMihb45kTz"
      },
      "source": [
        "# Feature Extraction - Bag of Words and TF-IDF Vector"
      ]
    },
    {
      "cell_type": "code",
      "execution_count": 15,
      "metadata": {
        "colab": {
          "base_uri": "https://localhost:8080/"
        },
        "id": "rnyF3HLqS-5g",
        "outputId": "9ef995f5-096f-4a07-842e-c16e1ebd4a02"
      },
      "outputs": [
        {
          "name": "stdout",
          "output_type": "stream",
          "text": [
            "Bag-of-Words feature matrix shape: (17880, 55576)\n",
            "TF-IDF feature matrix shape: (17880, 924067)\n"
          ]
        }
      ],
      "source": [
        "# 1) Bag-of-Words (Unigrams Only)\n",
        "bow_vectorizer = CountVectorizer()\n",
        "X_bow = bow_vectorizer.fit_transform(data['combined_text'])\n",
        "print(\"Bag-of-Words feature matrix shape:\", X_bow.shape)\n",
        "\n",
        "# 2) TF-IDF (Unigrams + Bigrams)\n",
        "tfidf_vectorizer = TfidfVectorizer(ngram_range=(1,2))\n",
        "X_tfidf = tfidf_vectorizer.fit_transform(data['combined_text'])\n",
        "print(\"TF-IDF feature matrix shape:\", X_tfidf.shape)\n"
      ]
    },
    {
      "cell_type": "markdown",
      "metadata": {
        "id": "NRe9zlvb6avy"
      },
      "source": [
        "# Model Selection and Training"
      ]
    },
    {
      "cell_type": "code",
      "execution_count": 16,
      "metadata": {
        "colab": {
          "base_uri": "https://localhost:8080/"
        },
        "id": "XxYNH3uG61oj",
        "outputId": "693a1f2f-e158-4e70-b953-cf09859fc5ab"
      },
      "outputs": [
        {
          "name": "stdout",
          "output_type": "stream",
          "text": [
            "fraudulent\n",
            "0    17014\n",
            "1      866\n",
            "Name: count, dtype: int64\n"
          ]
        }
      ],
      "source": [
        "# Define target labels\n",
        "y = data['fraudulent']\n",
        "print(y.value_counts())"
      ]
    },
    {
      "cell_type": "code",
      "execution_count": 17,
      "metadata": {
        "id": "cpMNILkx7EhH"
      },
      "outputs": [],
      "source": [
        "# Split data into Bag of words\n",
        "X_train_bow, X_test_bow, y_train_bow, y_test_bow = train_test_split(\n",
        "    X_bow, y, test_size=0.2, random_state=42, stratify=y\n",
        ")"
      ]
    },
    {
      "cell_type": "markdown",
      "metadata": {
        "id": "DUuK0nJ87XYg"
      },
      "source": [
        "Model 1: Train Multinomial Bayes Model (Bag of Words)"
      ]
    },
    {
      "cell_type": "code",
      "execution_count": 18,
      "metadata": {
        "id": "U6l4yi8jccW4"
      },
      "outputs": [],
      "source": [
        "def get_nb_feature_importance(nb_model, vectorizer, class_index):\n",
        "    \"\"\"\n",
        "    Gets feature importance from a MultinomialNB model.\n",
        "    \"\"\"\n",
        "    feature_names = vectorizer.get_feature_names_out()\n",
        "    feature_log_probs = nb_model.feature_log_prob_[class_index]\n",
        "    feature_importance = list(zip(feature_names, feature_log_probs))\n",
        "    sorted_importance = sorted(feature_importance, key=lambda x: x[1], reverse=True)\n",
        "    return sorted_importance"
      ]
    },
    {
      "cell_type": "code",
      "execution_count": 19,
      "metadata": {
        "colab": {
          "base_uri": "https://localhost:8080/",
          "height": 625
        },
        "id": "xvpIGkab7abA",
        "outputId": "9a033e58-f0ca-4136-9168-2692f542e1e9"
      },
      "outputs": [
        {
          "data": {
            "image/png": "[encoded data removed]",
            "text/plain": [
              "<Figure size 640x480 with 2 Axes>"
            ]
          },
          "metadata": {},
          "output_type": "display_data"
        },
        {
          "name": "stdout",
          "output_type": "stream",
          "text": [
            "===== Multinomial Naive Bayes (Bag-of-Words) =====\n",
            "Accuracy: 0.9706375838926175\n",
            "Precision: 0.673469387755102\n",
            "Recall: 0.7630057803468208\n",
            "F1 Score: 0.7154471544715447\n",
            "--------------------------------------------------\n",
            "\n",
            "Top features indicative of fraudulent class: [('work', np.float64(-4.911127138865099)), ('experience', np.float64(-4.941764108326989)), ('skill', np.float64(-5.156608856826504)), ('service', np.float64(-5.221086161594799)), ('customer', np.float64(-5.390368709095772)), ('company', np.float64(-5.4763260119918105)), ('amp', np.float64(-5.485214959409057)), ('team', np.float64(-5.5429737935612495)), ('product', np.float64(-5.559322931562779)), ('position', np.float64(-5.574548139159845))]\n",
            "Top features indicative of non-fraudulent class: [('experience', np.float64(-4.56217689599387)), ('team', np.float64(-4.75135359991749)), ('work', np.float64(-4.7623902422147)), ('false', np.float64(-4.853477918643373)), ('service', np.float64(-5.038832434467912)), ('company', np.float64(-5.04587350769253)), ('customer', np.float64(-5.122450305554866)), ('business', np.float64(-5.225132116846311)), ('skill', np.float64(-5.225183661909593)), ('client', np.float64(-5.3669372770705515))]\n"
          ]
        }
      ],
      "source": [
        "nb_model_bow = MultinomialNB(alpha=1.0)\n",
        "nb_model_bow.fit(X_train_bow, y_train_bow)\n",
        "y_pred_nb_bow = nb_model_bow.predict(X_test_bow)\n",
        "\n",
        "cm = confusion_matrix(y_test_bow, y_pred_nb_bow)\n",
        "disp = ConfusionMatrixDisplay(confusion_matrix=cm, display_labels=nb_model_bow.classes_)\n",
        "disp.plot()\n",
        "plt.show()\n",
        "print(\"===== Multinomial Naive Bayes (Bag-of-Words) =====\")\n",
        "print(\"Accuracy:\", accuracy_score(y_test_bow, y_pred_nb_bow))\n",
        "print(\"Precision:\", precision_score(y_test_bow, y_pred_nb_bow))\n",
        "print(\"Recall:\", recall_score(y_test_bow, y_pred_nb_bow))\n",
        "print(\"F1 Score:\", f1_score(y_test_bow, y_pred_nb_bow))\n",
        "print(\"--------------------------------------------------\\n\")\n",
        "\n",
        "fraudulent_importance = get_nb_feature_importance(nb_model_bow, bow_vectorizer, 1) # fraudulent class\n",
        "non_fraudulent_importance = get_nb_feature_importance(nb_model_bow, bow_vectorizer, 0)\n",
        "print(\"Top features indicative of fraudulent class:\", fraudulent_importance[:10])\n",
        "print(\"Top features indicative of non-fraudulent class:\", non_fraudulent_importance[:10])"
      ]
    },
    {
      "cell_type": "markdown",
      "metadata": {
        "id": "J9UDlP_t7kZo"
      },
      "source": [
        "Model 2: Train Logistic Regression Model (Bag of Words)"
      ]
    },
    {
      "cell_type": "code",
      "execution_count": 20,
      "metadata": {
        "colab": {
          "base_uri": "https://localhost:8080/",
          "height": 625
        },
        "id": "D4Dfq_xb7pzs",
        "outputId": "e48ca05b-5cd1-47e1-8bf4-c09332c2ceaf"
      },
      "outputs": [
        {
          "data": {
            "image/png": "[encoded data removed]",
            "text/plain": [
              "<Figure size 640x480 with 2 Axes>"
            ]
          },
          "metadata": {},
          "output_type": "display_data"
        },
        {
          "name": "stdout",
          "output_type": "stream",
          "text": [
            "===== Logistic Regression (Bag-of-Words) =====\n",
            "Accuracy: 0.985178970917226\n",
            "Precision: 0.9285714285714286\n",
            "Recall: 0.7514450867052023\n",
            "F1 Score: 0.8306709265175719\n",
            "------------------------------------------------\n",
            "\n",
            "Top features indicative of fraudulent class: [('rohan', np.float64(1.100186077426551)), ('link', np.float64(0.9208702989853919)), ('aptitude', np.float64(0.886340418940354)), ('accion', np.float64(0.8044030119634954)), ('money', np.float64(0.776313454879884)), ('duration', np.float64(0.7565022954843794)), ('oriented', np.float64(0.7267074865149782)), ('wage', np.float64(0.7243897786415355)), ('accountant', np.float64(0.7230639721103065)), ('american', np.float64(0.6989618537784801))]\n",
            "Top features indicative of non-fraudulent class: [('english', np.float64(-0.9616787642132713)), ('fun', np.float64(-0.6884318152819046)), ('startup', np.float64(-0.6872021676281915)), ('digital', np.float64(-0.6496102188298307)), ('exceptional', np.float64(-0.646750047307578)), ('become', np.float64(-0.6392352615199787)), ('reliable', np.float64(-0.6318535949169873)), ('university', np.float64(-0.6256907918341469)), ('teacher', np.float64(-0.6204006977854357)), ('state', np.float64(-0.6133871400901194))]\n"
          ]
        }
      ],
      "source": [
        "lr_model_bow = LogisticRegression(max_iter=1000)\n",
        "lr_model_bow.fit(X_train_bow, y_train_bow)\n",
        "y_pred_lr_bow = lr_model_bow.predict(X_test_bow)\n",
        "\n",
        "cm = confusion_matrix(y_test_bow, y_pred_lr_bow)\n",
        "disp = ConfusionMatrixDisplay(confusion_matrix=cm, display_labels=lr_model_bow.classes_)\n",
        "disp.plot()\n",
        "plt.show()\n",
        "print(\"===== Logistic Regression (Bag-of-Words) =====\")\n",
        "print(\"Accuracy:\", accuracy_score(y_test_bow, y_pred_lr_bow))\n",
        "print(\"Precision:\", precision_score(y_test_bow, y_pred_lr_bow))\n",
        "print(\"Recall:\", recall_score(y_test_bow, y_pred_lr_bow))\n",
        "print(\"F1 Score:\", f1_score(y_test_bow, y_pred_lr_bow))\n",
        "print(\"------------------------------------------------\\n\")\n",
        "\n",
        "feature_importance = lr_model_bow.coef_[0]\n",
        "feature_names = bow_vectorizer.get_feature_names_out()\n",
        "feature_importance_dict = dict(zip(feature_names, feature_importance))\n",
        "\n",
        "sorted_importance_fraud = sorted(feature_importance_dict.items(), key=lambda item: item[1], reverse=True)  # Sort descending\n",
        "print(\"Top features indicative of fraudulent class:\", sorted_importance_fraud[:10])\n",
        "\n",
        "sorted_importance_non_fraud = sorted(feature_importance_dict.items(), key=lambda item: item[1]) #sort from smallest to largest.\n",
        "print(\"Top features indicative of non-fraudulent class:\", sorted_importance_non_fraud[:10])"
      ]
    },
    {
      "cell_type": "markdown",
      "metadata": {
        "id": "vDVV_17fD91o"
      },
      "source": [
        "Model 3: Train Deep Learning Model (Bag of Words)"
      ]
    },
    {
      "cell_type": "code",
      "execution_count": null,
      "metadata": {
        "id": "wuhUalMMFZyE"
      },
      "outputs": [],
      "source": [
        "# Utility function to create a simple neural network model\n",
        "def create_nn_model(input_dim):\n",
        "    model = Sequential()\n",
        "    model.add(Dense(128, input_dim=input_dim, activation='relu'))\n",
        "    model.add(Dropout(0.2))\n",
        "    model.add(Dense(64, activation='relu'))\n",
        "    model.add(Dropout(0.2))\n",
        "    model.add(Dense(32, activation='relu'))\n",
        "    model.add(Dense(1, activation='sigmoid'))\n",
        "\n",
        "    model.compile(loss='binary_crossentropy',\n",
        "                  optimizer='adam',\n",
        "                  metrics=['accuracy'])\n",
        "    return model\n",
        "\n",
        "# Function to train and evaluate neural network models\n",
        "def train_evaluate_nn(X_train, X_test, y_train, y_test, model_name):\n",
        "    # Convert sparse matrices to dense arrays for Keras compatibility\n",
        "    X_train_dense = X_train.toarray()\n",
        "    X_test_dense = X_test.toarray()\n",
        "\n",
        "    # Convert y_train and y_test to numpy arrays if they're pandas Series\n",
        "    y_train_np = y_train.values if hasattr(y_train, 'values') else np.array(y_train)\n",
        "    y_test_np = y_test.values if hasattr(y_test, 'values') else np.array(y_test)\n",
        "\n",
        "    # Create model\n",
        "    model = create_nn_model(X_train_dense.shape[1])\n",
        "\n",
        "    # Set up early stopping\n",
        "    early_stopping = EarlyStopping(\n",
        "        monitor='val_loss',\n",
        "        patience=3,\n",
        "        min_delta=0.001,\n",
        "        restore_best_weights=True\n",
        "    )\n",
        "\n",
        "    # Calculate class weights (since data is imbalanced)\n",
        "    # Fixed the class weight calculation to use numpy operations\n",
        "    class_weight = {\n",
        "        0: 1.0,\n",
        "        1: np.sum(y_train_np == 0) / np.sum(y_train_np == 1)\n",
        "    }\n",
        "\n",
        "    # Train the model\n",
        "    history = model.fit(\n",
        "        X_train_dense, y_train_np,  # Use numpy array here\n",
        "        epochs=10,\n",
        "        batch_size=64,\n",
        "        validation_split=0.1,\n",
        "        callbacks=[early_stopping],\n",
        "        class_weight=class_weight,\n",
        "        verbose=1\n",
        "    )\n",
        "\n",
        "    # Plot training history\n",
        "    plt.figure(figsize=(12, 4))\n",
        "\n",
        "    plt.subplot(1, 2, 1)\n",
        "    plt.plot(history.history['accuracy'])\n",
        "    plt.plot(history.history['val_accuracy'])\n",
        "    plt.title(f'{model_name} - Accuracy')\n",
        "    plt.ylabel('Accuracy')\n",
        "    plt.xlabel('Epoch')\n",
        "    plt.legend(['Train', 'Validation'], loc='lower right')\n",
        "\n",
        "    plt.subplot(1, 2, 2)\n",
        "    plt.plot(history.history['loss'])\n",
        "    plt.plot(history.history['val_loss'])\n",
        "    plt.title(f'{model_name} - Loss')\n",
        "    plt.ylabel('Loss')\n",
        "    plt.xlabel('Epoch')\n",
        "    plt.legend(['Train', 'Validation'], loc='upper right')\n",
        "\n",
        "    plt.tight_layout()\n",
        "    plt.show()\n",
        "\n",
        "    # Make predictions\n",
        "    y_pred_prob = model.predict(X_test_dense)\n",
        "    y_pred = (y_pred_prob > 0.5).astype(int).flatten()\n",
        "\n",
        "    # Plot confusion matrix\n",
        "    cm = confusion_matrix(y_test_np, y_pred)  # Use numpy array here\n",
        "    disp = ConfusionMatrixDisplay(confusion_matrix=cm, display_labels=[0, 1])\n",
        "    disp.plot()\n",
        "    plt.title(f'Confusion Matrix - {model_name}')\n",
        "    plt.show()\n",
        "\n",
        "    # Print metrics\n",
        "    print(f\"===== {model_name} =====\")\n",
        "    print(\"Accuracy:\", accuracy_score(y_test_np, y_pred))  # Use numpy array here\n",
        "    print(\"Precision:\", precision_score(y_test_np, y_pred))\n",
        "    print(\"Recall:\", recall_score(y_test_np, y_pred))\n",
        "    print(\"F1 Score:\", f1_score(y_test_np, y_pred))\n",
        "    print(\"-\" * 40 + \"\\n\")\n",
        "\n",
        "    return model, y_pred"
      ]
    },
    {
      "cell_type": "code",
      "execution_count": null,
      "metadata": {
        "colab": {
          "base_uri": "https://localhost:8080/",
          "height": 1000
        },
        "id": "NxvROfclnPCV",
        "outputId": "0126c122-1b39-4242-d787-6a1644a17db0"
      },
      "outputs": [
        {
          "name": "stdout",
          "output_type": "stream",
          "text": [
            "Training Neural Network with Bag-of-Words features...\n",
            "Epoch 1/10\n",
            "\u001b[1m202/202\u001b[0m \u001b[32m━━━━━━━━━━━━━━━━━━━━\u001b[0m\u001b[37m\u001b[0m \u001b[1m54s\u001b[0m 248ms/step - accuracy: 0.9201 - loss: 0.9254 - val_accuracy: 0.9385 - val_loss: 0.1832\n",
            "Epoch 2/10\n",
            "\u001b[1m202/202\u001b[0m \u001b[32m━━━━━━━━━━━━━━━━━━━━\u001b[0m\u001b[37m\u001b[0m \u001b[1m49s\u001b[0m 242ms/step - accuracy: 0.9582 - loss: 0.2122 - val_accuracy: 0.9665 - val_loss: 0.1212\n",
            "Epoch 3/10\n",
            "\u001b[1m202/202\u001b[0m \u001b[32m━━━━━━━━━━━━━━━━━━━━\u001b[0m\u001b[37m\u001b[0m \u001b[1m53s\u001b[0m 255ms/step - accuracy: 0.9794 - loss: 0.2074 - val_accuracy: 0.9734 - val_loss: 0.0866\n",
            "Epoch 4/10\n",
            "\u001b[1m202/202\u001b[0m \u001b[32m━━━━━━━━━━━━━━━━━━━━\u001b[0m\u001b[37m\u001b[0m \u001b[1m50s\u001b[0m 244ms/step - accuracy: 0.9927 - loss: 0.0509 - val_accuracy: 0.9776 - val_loss: 0.0985\n",
            "Epoch 5/10\n",
            "\u001b[1m202/202\u001b[0m \u001b[32m━━━━━━━━━━━━━━━━━━━━\u001b[0m\u001b[37m\u001b[0m \u001b[1m50s\u001b[0m 245ms/step - accuracy: 0.9964 - loss: 0.0249 - val_accuracy: 0.9804 - val_loss: 0.0984\n",
            "Epoch 6/10\n",
            "\u001b[1m202/202\u001b[0m \u001b[32m━━━━━━━━━━━━━━━━━━━━\u001b[0m\u001b[37m\u001b[0m \u001b[1m51s\u001b[0m 250ms/step - accuracy: 0.9964 - loss: 0.0923 - val_accuracy: 0.9825 - val_loss: 0.1233\n"
          ]
        },
        {
          "data": {
            "image/png": "[encoded data removed]",
            "text/plain": [
              "<Figure size 1200x400 with 2 Axes>"
            ]
          },
          "metadata": {},
          "output_type": "display_data"
        },
        {
          "name": "stdout",
          "output_type": "stream",
          "text": [
            "\u001b[1m112/112\u001b[0m \u001b[32m━━━━━━━━━━━━━━━━━━━━\u001b[0m\u001b[37m\u001b[0m \u001b[1m2s\u001b[0m 19ms/step\n"
          ]
        },
        {
          "data": {
            "image/png": "[encoded data removed]",
            "text/plain": [
              "<Figure size 640x480 with 2 Axes>"
            ]
          },
          "metadata": {},
          "output_type": "display_data"
        },
        {
          "name": "stdout",
          "output_type": "stream",
          "text": [
            "===== Neural Network (Bag-of-Words) =====\n",
            "Accuracy: 0.9804250559284117\n",
            "Precision: 0.7909604519774012\n",
            "Recall: 0.8092485549132948\n",
            "F1 Score: 0.8\n",
            "----------------------------------------\n",
            "\n"
          ]
        }
      ],
      "source": [
        "print(\"Training Neural Network with Bag-of-Words features...\")\n",
        "nn_model_bow, y_pred_nn_bow = train_evaluate_nn(\n",
        "    X_train_bow, X_test_bow, y_train_bow, y_test_bow,\n",
        "    \"Neural Network (Bag-of-Words)\"\n",
        ")"
      ]
    },
    {
      "cell_type": "markdown",
      "metadata": {
        "id": "4Adai5v974Ei"
      },
      "source": [
        "# Testing Models Using TF-IDF Feature vectors"
      ]
    },
    {
      "cell_type": "markdown",
      "metadata": {
        "id": "GiUwqI7NIVfe"
      },
      "source": [
        "Model 1: Train Multinomial Bayes Model (TF-IDF)"
      ]
    },
    {
      "cell_type": "code",
      "execution_count": 21,
      "metadata": {
        "id": "vRihy3Pb79fi"
      },
      "outputs": [],
      "source": [
        "# Train/Test Split for TF-IDF\n",
        "X_train_tfidf, X_test_tfidf, y_train_tfidf, y_test_tfidf = train_test_split(\n",
        "    X_tfidf, y, test_size=0.2, random_state=42, stratify=y\n",
        ")"
      ]
    },
    {
      "cell_type": "code",
      "execution_count": 22,
      "metadata": {
        "colab": {
          "base_uri": "https://localhost:8080/",
          "height": 625
        },
        "id": "BvoYdHtt8LkX",
        "outputId": "573121ce-bf37-42d2-d79c-d5c5f66f52c0"
      },
      "outputs": [
        {
          "data": {
            "image/png": "[encoded data removed]",
            "text/plain": [
              "<Figure size 640x480 with 2 Axes>"
            ]
          },
          "metadata": {},
          "output_type": "display_data"
        },
        {
          "name": "stdout",
          "output_type": "stream",
          "text": [
            "===== Multinomial Naive Bayes (TF-IDF) =====\n",
            "Accuracy: 0.9516219239373602\n",
            "Precision: 0.0\n",
            "Recall: 0.0\n",
            "F1 Score: 0.0\n",
            "--------------------------------------------------\n",
            "\n",
            "Top features indicative of fraudulent class: [('work', np.float64(-11.051611680821111)), ('entry', np.float64(-11.147844177985217)), ('data entry', np.float64(-11.150015730963583)), ('skill', np.float64(-11.21203371586965)), ('customer', np.float64(-11.219366052748867)), ('position', np.float64(-11.225139461190171)), ('service', np.float64(-11.227552417190385)), ('home', np.float64(-11.244463812010189)), ('amp', np.float64(-11.29795951402513)), ('experience', np.float64(-11.301449838789395))]\n",
            "Top features indicative of non-fraudulent class: [('experience', np.float64(-8.31427250588331)), ('team', np.float64(-8.461417432274821)), ('customer', np.float64(-8.469854362511493)), ('work', np.float64(-8.483410988634272)), ('job', np.float64(-8.527245701429875)), ('service', np.float64(-8.535416553010961)), ('company', np.float64(-8.677996704473447)), ('business', np.float64(-8.688652642775128)), ('sale', np.float64(-8.690881873658652)), ('client', np.float64(-8.711761159733504))]\n"
          ]
        }
      ],
      "source": [
        "nb_model_tfidf = MultinomialNB(alpha=1.0)\n",
        "nb_model_tfidf.fit(X_train_tfidf, y_train_tfidf)\n",
        "y_pred_nb_tfidf = nb_model_tfidf.predict(X_test_tfidf)\n",
        "\n",
        "cm = confusion_matrix(y_test_tfidf, y_pred_nb_tfidf)\n",
        "disp = ConfusionMatrixDisplay(confusion_matrix=cm, display_labels=nb_model_tfidf.classes_)\n",
        "disp.plot()\n",
        "plt.show()\n",
        "print(\"===== Multinomial Naive Bayes (TF-IDF) =====\")\n",
        "print(\"Accuracy:\", accuracy_score(y_test_tfidf, y_pred_nb_tfidf))\n",
        "print(\"Precision:\", precision_score(y_test_tfidf, y_pred_nb_tfidf))\n",
        "print(\"Recall:\", recall_score(y_test_tfidf, y_pred_nb_tfidf))\n",
        "print(\"F1 Score:\", f1_score(y_test_tfidf, y_pred_nb_tfidf))\n",
        "print(\"--------------------------------------------------\\n\")\n",
        "\n",
        "fraudulent_importance = get_nb_feature_importance(nb_model_tfidf, tfidf_vectorizer, 1)\n",
        "non_fraudulent_importance = get_nb_feature_importance(nb_model_tfidf, tfidf_vectorizer, 0)\n",
        "print(\"Top features indicative of fraudulent class:\", fraudulent_importance[:10])\n",
        "print(\"Top features indicative of non-fraudulent class:\", non_fraudulent_importance[:10])"
      ]
    },
    {
      "cell_type": "markdown",
      "metadata": {
        "id": "PIi1Iz2MIlLQ"
      },
      "source": [
        "Model 2: Train Logistic Regression Model (TF-IDF)"
      ]
    },
    {
      "cell_type": "code",
      "execution_count": 23,
      "metadata": {
        "colab": {
          "base_uri": "https://localhost:8080/",
          "height": 608
        },
        "id": "Q1k-pDSYIhjM",
        "outputId": "74edd52c-203b-4453-b080-b1d2130b1763"
      },
      "outputs": [
        {
          "data": {
            "image/png": "[encoded data removed]",
            "text/plain": [
              "<Figure size 640x480 with 2 Axes>"
            ]
          },
          "metadata": {},
          "output_type": "display_data"
        },
        {
          "name": "stdout",
          "output_type": "stream",
          "text": [
            "===== Logistic Regression (TF-IDF) =====\n",
            "Accuracy: 0.970917225950783\n",
            "Precision: 1.0\n",
            "Recall: 0.3988439306358382\n",
            "F1 Score: 0.5702479338842975\n",
            "--------------------------------------------------\n",
            "Top features indicative of fraudulent class: [('data entry', np.float64(3.1052691298682125)), ('entry', np.float64(2.6529486162046396)), ('administrative', np.float64(2.474857086597812)), ('assistant', np.float64(2.026609929156624)), ('earn', np.float64(1.9417269652734148)), ('phone', np.float64(1.9185481521633418)), ('administrative assistant', np.float64(1.7575704543674093)), ('accion', np.float64(1.753787591191628)), ('aker', np.float64(1.7509472363209158)), ('clerk', np.float64(1.7273898873071132))]\n",
            "Top features indicative of non-fraudulent class: [('team', np.float64(-2.4322662191397617)), ('client', np.float64(-2.0065346192051603)), ('marketing', np.float64(-1.8371208185932484)), ('web', np.float64(-1.8092894814555922)), ('digital', np.float64(-1.5493397914580815)), ('software', np.float64(-1.4376249986568121)), ('social', np.float64(-1.4146009777643758)), ('medium', np.float64(-1.4011725015819019)), ('sale', np.float64(-1.356689408757701)), ('website', np.float64(-1.304181624533691))]\n"
          ]
        }
      ],
      "source": [
        "# Logistic Regression (TF-IDF)\n",
        "lr_model_tfidf = LogisticRegression(max_iter=1000)\n",
        "lr_model_tfidf.fit(X_train_tfidf, y_train_tfidf)\n",
        "y_pred_lr_tfidf = lr_model_tfidf.predict(X_test_tfidf)\n",
        "\n",
        "cm = confusion_matrix(y_test_tfidf, y_pred_lr_tfidf)\n",
        "disp = ConfusionMatrixDisplay(confusion_matrix=cm, display_labels=lr_model_tfidf.classes_)\n",
        "disp.plot()\n",
        "plt.show()\n",
        "print(\"===== Logistic Regression (TF-IDF) =====\")\n",
        "print(\"Accuracy:\", accuracy_score(y_test_tfidf, y_pred_lr_tfidf))\n",
        "print(\"Precision:\", precision_score(y_test_tfidf, y_pred_lr_tfidf))\n",
        "print(\"Recall:\", recall_score(y_test_tfidf, y_pred_lr_tfidf))\n",
        "print(\"F1 Score:\", f1_score(y_test_tfidf, y_pred_lr_tfidf))\n",
        "print(\"--------------------------------------------------\")\n",
        "\n",
        "feature_importance = lr_model_tfidf.coef_[0]\n",
        "feature_names = tfidf_vectorizer.get_feature_names_out()\n",
        "feature_importance_dict = dict(zip(feature_names, feature_importance))\n",
        "\n",
        "sorted_importance_fraud = sorted(feature_importance_dict.items(), key=lambda item: item[1], reverse=True)  # Sort descending\n",
        "print(\"Top features indicative of fraudulent class:\", sorted_importance_fraud[:10])\n",
        "\n",
        "sorted_importance_non_fraud = sorted(feature_importance_dict.items(), key=lambda item: item[1]) #sort from smallest to largest.\n",
        "print(\"Top features indicative of non-fraudulent class:\", sorted_importance_non_fraud[:10])"
      ]
    },
    {
      "cell_type": "markdown",
      "metadata": {
        "id": "qaEzbK0ZingO"
      },
      "source": [
        "Model 3: Train Deep Learning Model (TF-IDF)"
      ]
    },
    {
      "cell_type": "code",
      "execution_count": null,
      "metadata": {
        "colab": {
          "base_uri": "https://localhost:8080/"
        },
        "id": "1vtPEIywim14",
        "outputId": "15721c70-73a7-42e2-ae8a-fcf4fd9d8716"
      },
      "outputs": [
        {
          "name": "stdout",
          "output_type": "stream",
          "text": [
            "Training Neural Network with TF-IDF features...\n",
            "Epoch 1/10\n",
            "\u001b[1m202/202\u001b[0m \u001b[32m━━━━━━━━━━━━━━━━━━━━\u001b[0m\u001b[37m\u001b[0m \u001b[1m885s\u001b[0m 4s/step - accuracy: 0.9220 - loss: 0.8725 - val_accuracy: 0.9588 - val_loss: 0.1167\n",
            "Epoch 2/10\n",
            "\u001b[1m202/202\u001b[0m \u001b[32m━━━━━━━━━━━━━━━━━━━━\u001b[0m\u001b[37m\u001b[0m \u001b[1m878s\u001b[0m 4s/step - accuracy: 0.9851 - loss: 0.0639 - val_accuracy: 0.9839 - val_loss: 0.0459\n",
            "Epoch 3/10\n",
            "\u001b[1m202/202\u001b[0m \u001b[32m━━━━━━━━━━━━━━━━━━━━\u001b[0m\u001b[37m\u001b[0m \u001b[1m869s\u001b[0m 4s/step - accuracy: 0.9991 - loss: 0.0106 - val_accuracy: 0.9846 - val_loss: 0.0421\n",
            "Epoch 4/10\n",
            "\u001b[1m202/202\u001b[0m \u001b[32m━━━━━━━━━━━━━━━━━━━━\u001b[0m\u001b[37m\u001b[0m \u001b[1m872s\u001b[0m 4s/step - accuracy: 0.9996 - loss: 0.0093 - val_accuracy: 0.9853 - val_loss: 0.0448\n",
            "Epoch 5/10\n",
            "\u001b[1m202/202\u001b[0m \u001b[32m━━━━━━━━━━━━━━━━━━━━\u001b[0m\u001b[37m\u001b[0m \u001b[1m874s\u001b[0m 4s/step - accuracy: 0.9997 - loss: 0.0035 - val_accuracy: 0.9811 - val_loss: 0.0547\n",
            "Epoch 6/10\n",
            "\u001b[1m202/202\u001b[0m \u001b[32m━━━━━━━━━━━━━━━━━━━━\u001b[0m\u001b[37m\u001b[0m \u001b[1m867s\u001b[0m 4s/step - accuracy: 0.9990 - loss: 0.0033 - val_accuracy: 0.9860 - val_loss: 0.0406\n",
            "Epoch 7/10\n",
            "\u001b[1m 80/202\u001b[0m \u001b[32m━━━━━━━\u001b[0m\u001b[37m━━━━━━━━━━━━━\u001b[0m \u001b[1m8:39\u001b[0m 4s/step - accuracy: 0.9997 - loss: 0.0011"
          ]
        }
      ],
      "source": [
        "# Deep Learning (TF-IDF)\n",
        "print(\"Training Neural Network with TF-IDF features...\")\n",
        "nn_model_tfidf, y_pred_nn_tfidf = train_evaluate_nn(\n",
        "    X_train_tfidf, X_test_tfidf, y_train_tfidf, y_test_tfidf,\n",
        "    \"Neural Network (TF-IDF)\"\n",
        ")"
      ]
    },
    {
      "cell_type": "markdown",
      "metadata": {
        "id": "1TUi5JHw8kRO"
      },
      "source": [
        "# Lets try oversampling the minority (fraudlent) class now:"
      ]
    },
    {
      "cell_type": "code",
      "execution_count": 24,
      "metadata": {
        "id": "GwYBy5Qi8wJN"
      },
      "outputs": [],
      "source": [
        "# from imblearn.over_sampling import RandomOverSampler\n",
        "from imblearn.over_sampling import SMOTE\n",
        "\n",
        "# ros = RandomOverSampler(random_state=42)\n",
        "smote = SMOTE(random_state=42)\n",
        "\n",
        "# Fit and resample the training set to oversample the minority (fraudulent) class.\n",
        "# X_train_bow_res, y_train_bow_res = ros.fit_resample(X_train_bow, y_train_bow)\n",
        "X_train_bow_res, y_train_bow_res = smote.fit_resample(X_train_bow, y_train_bow)\n"
      ]
    },
    {
      "cell_type": "markdown",
      "metadata": {
        "id": "azKTMi4qjA80"
      },
      "source": [
        "Model 1: Train Multinomial Bayes Model + Oversampling (Bag of Words)"
      ]
    },
    {
      "cell_type": "code",
      "execution_count": 25,
      "metadata": {
        "colab": {
          "base_uri": "https://localhost:8080/",
          "height": 625
        },
        "id": "VT1WW_zL8_mA",
        "outputId": "ce0e555d-4735-47e8-8074-911779cf1d02"
      },
      "outputs": [
        {
          "data": {
            "image/png": "[encoded data removed]",
            "text/plain": [
              "<Figure size 640x480 with 2 Axes>"
            ]
          },
          "metadata": {},
          "output_type": "display_data"
        },
        {
          "name": "stdout",
          "output_type": "stream",
          "text": [
            "===== Multinomial Naive Bayes (Bag-of-Words) with Oversampled Training Data =====\n",
            "Accuracy: 0.9793064876957495\n",
            "Precision: 0.8074534161490683\n",
            "Recall: 0.7514450867052023\n",
            "F1 Score: 0.7784431137724551\n",
            "--------------------------------------------------\n",
            "\n",
            "Top features indicative of fraudulent class: [('work', np.float64(-4.23673784054143)), ('experience', np.float64(-4.35680297205818)), ('skill', np.float64(-4.561509169009611)), ('service', np.float64(-4.614107669999999)), ('customer', np.float64(-4.767421917501249)), ('amp', np.float64(-4.793218429262241)), ('product', np.float64(-4.876268413555014)), ('position', np.float64(-4.939702312795713)), ('team', np.float64(-4.949142579259808)), ('company', np.float64(-4.964049687608947))]\n",
            "Top features indicative of non-fraudulent class: [('experience', np.float64(-4.56217689599387)), ('team', np.float64(-4.75135359991749)), ('work', np.float64(-4.7623902422147)), ('false', np.float64(-4.853477918643373)), ('service', np.float64(-5.038832434467912)), ('company', np.float64(-5.04587350769253)), ('customer', np.float64(-5.122450305554866)), ('business', np.float64(-5.225132116846311)), ('skill', np.float64(-5.225183661909593)), ('client', np.float64(-5.3669372770705515))]\n"
          ]
        }
      ],
      "source": [
        "nb_model_bow_res = MultinomialNB(alpha=1.0)\n",
        "nb_model_bow_res.fit(X_train_bow_res, y_train_bow_res)\n",
        "y_pred_nb_bow_res = nb_model_bow_res.predict(X_test_bow)\n",
        "\n",
        "cm = confusion_matrix(y_test_bow, y_pred_nb_bow_res)\n",
        "disp = ConfusionMatrixDisplay(confusion_matrix=cm, display_labels=nb_model_bow_res.classes_)\n",
        "disp.plot()\n",
        "plt.show()\n",
        "print(\"===== Multinomial Naive Bayes (Bag-of-Words) with Oversampled Training Data =====\")\n",
        "print(\"Accuracy:\", accuracy_score(y_test_bow, y_pred_nb_bow_res))\n",
        "print(\"Precision:\", precision_score(y_test_bow, y_pred_nb_bow_res))\n",
        "print(\"Recall:\", recall_score(y_test_bow, y_pred_nb_bow_res))\n",
        "print(\"F1 Score:\", f1_score(y_test_bow, y_pred_nb_bow_res))\n",
        "print(\"--------------------------------------------------\\n\")\n",
        "\n",
        "fraudulent_importance = get_nb_feature_importance(nb_model_bow_res, bow_vectorizer, 1)\n",
        "non_fraudulent_importance = get_nb_feature_importance(nb_model_bow_res, bow_vectorizer, 0)\n",
        "print(\"Top features indicative of fraudulent class:\", fraudulent_importance[:10])\n",
        "print(\"Top features indicative of non-fraudulent class:\", non_fraudulent_importance[:10])"
      ]
    },
    {
      "cell_type": "markdown",
      "metadata": {
        "id": "eQmkhm9EltwX"
      },
      "source": [
        "Model 2: Train Logistic Regression + Oversampling (Bag of Words)"
      ]
    },
    {
      "cell_type": "code",
      "execution_count": 26,
      "metadata": {
        "colab": {
          "base_uri": "https://localhost:8080/",
          "height": 625
        },
        "id": "3Hl_jyTB98sX",
        "outputId": "308d2b0d-25f8-432d-de37-a9f93dc207c5"
      },
      "outputs": [
        {
          "data": {
            "image/png": "[encoded data removed]",
            "text/plain": [
              "<Figure size 640x480 with 2 Axes>"
            ]
          },
          "metadata": {},
          "output_type": "display_data"
        },
        {
          "name": "stdout",
          "output_type": "stream",
          "text": [
            "===== Logistic Regression (Bag-of-Words) with Oversampled Training Data =====\n",
            "Accuracy: 0.9762304250559284\n",
            "Precision: 0.7391304347826086\n",
            "Recall: 0.7861271676300579\n",
            "F1 Score: 0.7619047619047619\n",
            "--------------------------------------------------\n",
            "\n",
            "Top features indicative of fraudulent class: [('aptitude', np.float64(1.46413037654731)), ('accion', np.float64(1.26379944033401)), ('money', np.float64(1.0335114220930652)), ('american', np.float64(0.9567100175009848)), ('rideamigos', np.float64(0.904237018164829)), ('bw', np.float64(0.8978460644709377)), ('beverage', np.float64(0.8708869333035255)), ('link', np.float64(0.8638983795606858)), ('surgical', np.float64(0.8591066536869864)), ('ga', np.float64(0.8537805291931329))]\n",
            "Top features indicative of non-fraudulent class: [('english', np.float64(-1.6012594735650156)), ('developer', np.float64(-1.3627008811231551)), ('specialist', np.float64(-1.276681352740138)), ('startup', np.float64(-1.2692145944231465)), ('university', np.float64(-1.2552142578226617)), ('fun', np.float64(-1.2150227621513692)), ('php', np.float64(-1.2145365234904943)), ('background', np.float64(-1.181359176698111)), ('academy', np.float64(-1.1713532769279629)), ('reliable', np.float64(-1.1287611482490612))]\n"
          ]
        }
      ],
      "source": [
        "lr_model_bow_res = LogisticRegression(max_iter=1000)\n",
        "lr_model_bow_res.fit(X_train_bow_res, y_train_bow_res)\n",
        "\n",
        "# Predict on the original test set\n",
        "y_pred_lr_bow_res = lr_model_bow_res.predict(X_test_bow)\n",
        "\n",
        "# Evaluate the model\n",
        "cm = confusion_matrix(y_test_bow, y_pred_lr_bow_res)\n",
        "disp = ConfusionMatrixDisplay(confusion_matrix=cm, display_labels=lr_model_bow_res.classes_)\n",
        "disp.plot()\n",
        "plt.show()\n",
        "print(\"===== Logistic Regression (Bag-of-Words) with Oversampled Training Data =====\")\n",
        "print(\"Accuracy:\", accuracy_score(y_test_bow, y_pred_lr_bow_res))\n",
        "print(\"Precision:\", precision_score(y_test_bow, y_pred_lr_bow_res))\n",
        "print(\"Recall:\", recall_score(y_test_bow, y_pred_lr_bow_res))\n",
        "print(\"F1 Score:\", f1_score(y_test_bow, y_pred_lr_bow_res))\n",
        "print(\"--------------------------------------------------\\n\")\n",
        "\n",
        "feature_importance = lr_model_bow_res.coef_[0]\n",
        "feature_names = bow_vectorizer.get_feature_names_out()\n",
        "feature_importance_dict = dict(zip(feature_names, feature_importance))\n",
        "\n",
        "sorted_importance_fraud = sorted(feature_importance_dict.items(), key=lambda item: item[1], reverse=True)  # Sort descending\n",
        "print(\"Top features indicative of fraudulent class:\", sorted_importance_fraud[:10])\n",
        "\n",
        "sorted_importance_non_fraud = sorted(feature_importance_dict.items(), key=lambda item: item[1]) #sort from smallest to largest.\n",
        "print(\"Top features indicative of non-fraudulent class:\", sorted_importance_non_fraud[:10])"
      ]
    },
    {
      "cell_type": "markdown",
      "metadata": {
        "id": "aZKBUivlncxJ"
      },
      "source": [
        "Model 3: Train Deep Learning Model + Oversampling (Bag of Words)"
      ]
    },
    {
      "cell_type": "code",
      "execution_count": null,
      "metadata": {
        "id": "TClmOfpsm9ZZ"
      },
      "outputs": [],
      "source": [
        "# Deep Learning (bag of words) with oversampled training data\n",
        "print(\"Training Neural Network with Oversampled Bag-of-Words features...\")\n",
        "nn_model_bow_res, y_pred_nn_bow_res = train_evaluate_nn(\n",
        "    X_train_bow_res, X_test_bow, y_train_bow_res, y_test_bow,\n",
        "    \"Neural Network (Bag-of-Words) with Oversampling\"\n",
        ")"
      ]
    },
    {
      "cell_type": "markdown",
      "metadata": {
        "id": "PKnK_kx_mIV9"
      },
      "source": [
        "Model 1: Train Multinomial Bayes Model + Oversampling (TF-IDF)"
      ]
    },
    {
      "cell_type": "code",
      "execution_count": 27,
      "metadata": {
        "colab": {
          "base_uri": "https://localhost:8080/",
          "height": 625
        },
        "id": "WNS0BjDxJ2y_",
        "outputId": "b64418dd-0ea7-4d03-f804-282fdaf09559"
      },
      "outputs": [
        {
          "data": {
            "image/png": "[encoded data removed]",
            "text/plain": [
              "<Figure size 640x480 with 2 Axes>"
            ]
          },
          "metadata": {},
          "output_type": "display_data"
        },
        {
          "name": "stdout",
          "output_type": "stream",
          "text": [
            "===== Multinomial Naive Bayes (TF-IDF) with Oversampled Training Data =====\n",
            "Accuracy: 0.9835011185682326\n",
            "Precision: 0.7794117647058824\n",
            "Recall: 0.9190751445086706\n",
            "F1 Score: 0.843501326259947\n",
            "--------------------------------------------------\n",
            "\n",
            "Top features indicative of fraudulent class: [('entry', np.float64(-8.289238304910526)), ('data entry', np.float64(-8.290619220895193)), ('work', np.float64(-8.293462216834696)), ('customer', np.float64(-8.42896232827976)), ('service', np.float64(-8.442358610246847)), ('skill', np.float64(-8.442401605511758)), ('position', np.float64(-8.46210869580489)), ('home', np.float64(-8.49305037756297)), ('data', np.float64(-8.525702319995595)), ('amp', np.float64(-8.539997524926804))]\n",
            "Top features indicative of non-fraudulent class: [('experience', np.float64(-8.31427250588331)), ('team', np.float64(-8.461417432274821)), ('customer', np.float64(-8.469854362511493)), ('work', np.float64(-8.483410988634272)), ('job', np.float64(-8.527245701429875)), ('service', np.float64(-8.535416553010961)), ('company', np.float64(-8.677996704473447)), ('business', np.float64(-8.688652642775128)), ('sale', np.float64(-8.690881873658652)), ('client', np.float64(-8.711761159733504))]\n"
          ]
        }
      ],
      "source": [
        "X_train_tfidf_res, y_train_tfidf_res = smote.fit_resample(X_train_tfidf, y_train_tfidf)\n",
        "\n",
        "nb_model_tfidf_res = MultinomialNB(alpha=1.0)\n",
        "nb_model_tfidf_res.fit(X_train_tfidf_res, y_train_tfidf_res)\n",
        "y_pred_nb_tfidf_res = nb_model_tfidf_res.predict(X_test_tfidf)\n",
        "\n",
        "cm = confusion_matrix(y_test_tfidf, y_pred_nb_tfidf_res)\n",
        "disp = ConfusionMatrixDisplay(confusion_matrix=cm, display_labels=nb_model_tfidf_res.classes_)\n",
        "disp.plot()\n",
        "plt.show()\n",
        "print(\"===== Multinomial Naive Bayes (TF-IDF) with Oversampled Training Data =====\")\n",
        "print(\"Accuracy:\", accuracy_score(y_test_tfidf, y_pred_nb_tfidf_res))\n",
        "print(\"Precision:\", precision_score(y_test_tfidf, y_pred_nb_tfidf_res))\n",
        "print(\"Recall:\", recall_score(y_test_tfidf, y_pred_nb_tfidf_res))\n",
        "print(\"F1 Score:\", f1_score(y_test_tfidf, y_pred_nb_tfidf_res))\n",
        "print(\"--------------------------------------------------\\n\")\n",
        "\n",
        "fraudulent_importance = get_nb_feature_importance(nb_model_tfidf_res, tfidf_vectorizer, 1)\n",
        "non_fraudulent_importance = get_nb_feature_importance(nb_model_tfidf_res, tfidf_vectorizer, 0)\n",
        "print(\"Top features indicative of fraudulent class:\", fraudulent_importance[:10])\n",
        "print(\"Top features indicative of non-fraudulent class:\", non_fraudulent_importance[:10])"
      ]
    },
    {
      "cell_type": "markdown",
      "metadata": {
        "id": "hJOFw_6vjJnA"
      },
      "source": [
        "Model 2: Train Logistic Regression + Oversampling (TF-IDF)"
      ]
    },
    {
      "cell_type": "code",
      "execution_count": 28,
      "metadata": {
        "colab": {
          "base_uri": "https://localhost:8080/",
          "height": 625
        },
        "id": "TGDY4s-fKE7b",
        "outputId": "05075a43-c011-4bca-bdd8-02ca338800f3"
      },
      "outputs": [
        {
          "data": {
            "image/png": "[encoded data removed]",
            "text/plain": [
              "<Figure size 640x480 with 2 Axes>"
            ]
          },
          "metadata": {},
          "output_type": "display_data"
        },
        {
          "name": "stdout",
          "output_type": "stream",
          "text": [
            "===== Logistic Regression (TF-IDF) with Oversampled Training Data =====\n",
            "Accuracy: 0.9888143176733781\n",
            "Precision: 0.9586206896551724\n",
            "Recall: 0.8034682080924855\n",
            "F1 Score: 0.8742138364779874\n",
            "--------------------------------------------------\n",
            "\n",
            "Top features indicative of fraudulent class: [('data entry', np.float64(4.8381069129683905)), ('entry', np.float64(4.107560458723805)), ('administrative', np.float64(3.6500160844139797)), ('accion', np.float64(3.5142057365966832)), ('assistant', np.float64(3.477524562056054)), ('phone', np.float64(3.4681095799306108)), ('earn', np.float64(3.4239485873509827)), ('clerk', np.float64(3.0622854521966216)), ('link url', np.float64(3.0301428649187025)), ('aker', np.float64(2.894468989781362))]\n",
            "Top features indicative of non-fraudulent: [('team', np.float64(-3.8726700577119093)), ('client', np.float64(-3.5891827495350945)), ('web', np.float64(-2.899569197894909)), ('marketing', np.float64(-2.7599899782737567)), ('digital', np.float64(-2.6544892508225693)), ('software', np.float64(-2.5415117342738944)), ('medium', np.float64(-2.3173043876695303)), ('website', np.float64(-2.263924328685432)), ('social', np.float64(-2.2610851907856886)), ('recruitment', np.float64(-2.1831540021788642))]\n"
          ]
        }
      ],
      "source": [
        "lr_model_tfidf_res = LogisticRegression(max_iter=1000)\n",
        "lr_model_tfidf_res.fit(X_train_tfidf_res, y_train_tfidf_res)\n",
        "y_pred_lr_tfidf_res = lr_model_tfidf_res.predict(X_test_tfidf)\n",
        "\n",
        "cm = confusion_matrix(y_test_tfidf, y_pred_lr_tfidf_res)\n",
        "disp = ConfusionMatrixDisplay(confusion_matrix=cm, display_labels=lr_model_tfidf_res.classes_)\n",
        "disp.plot()\n",
        "plt.show()\n",
        "print(\"===== Logistic Regression (TF-IDF) with Oversampled Training Data =====\")\n",
        "print(\"Accuracy:\", accuracy_score(y_test_tfidf, y_pred_lr_tfidf_res))\n",
        "print(\"Precision:\", precision_score(y_test_tfidf, y_pred_lr_tfidf_res))\n",
        "print(\"Recall:\", recall_score(y_test_tfidf, y_pred_lr_tfidf_res))\n",
        "print(\"F1 Score:\", f1_score(y_test_tfidf, y_pred_lr_tfidf_res))\n",
        "print(\"--------------------------------------------------\\n\")\n",
        "\n",
        "feature_importance = lr_model_tfidf_res.coef_[0]\n",
        "feature_names = tfidf_vectorizer.get_feature_names_out()\n",
        "feature_importance_dict = dict(zip(feature_names, feature_importance))\n",
        "\n",
        "sorted_importance_fraud = sorted(feature_importance_dict.items(), key=lambda item: item[1], reverse=True)  # Sort descending\n",
        "print(\"Top features indicative of fraudulent class:\", sorted_importance_fraud[:10])\n",
        "\n",
        "sorted_importance_non_fraud = sorted(feature_importance_dict.items(), key=lambda item: item[1]) #sort from smallest to largest.\n",
        "print(\"Top features indicative of non-fraudulent:\", sorted_importance_non_fraud[:10])"
      ]
    },
    {
      "cell_type": "markdown",
      "metadata": {
        "id": "eualSJWVjXlC"
      },
      "source": [
        "Model 3: Train Deep Learning Model + Oversampling (Bag of Words)"
      ]
    },
    {
      "cell_type": "code",
      "execution_count": null,
      "metadata": {
        "id": "B_PP-9eUE_oY"
      },
      "outputs": [],
      "source": [
        "# Deep Learning (TF-IDF) with oversampled training data\n",
        "print(\"Training Neural Network with Oversampled TF-IDF features...\")\n",
        "nn_model_tfidf_res, y_pred_nn_tfidf_res = train_evaluate_nn(\n",
        "    X_train_tfidf_res, X_test_tfidf, y_train_tfidf_res, y_test_tfidf,\n",
        "    \"Neural Network (TF-IDF) with Oversampling\"\n",
        ")"
      ]
    },
    {
      "cell_type": "markdown",
      "metadata": {
        "id": "tV-WEtR6Oh4X"
      },
      "source": [
        "# K-fold Cross Validation using Oversampled MultiNomialBayes and Logistic Regression Models"
      ]
    },
    {
      "cell_type": "markdown",
      "metadata": {
        "id": "E0UMvKEbjnum"
      },
      "source": [
        "Model 1: Train Multinomial Bayes Model + Oversampling + K-fold CV (TF-IDF)"
      ]
    },
    {
      "cell_type": "code",
      "execution_count": 29,
      "metadata": {
        "colab": {
          "base_uri": "https://localhost:8080/"
        },
        "id": "dX1X30D6Ootb",
        "outputId": "93a437c2-6b23-42fc-db68-97a0773d14b3"
      },
      "outputs": [
        {
          "name": "stdout",
          "output_type": "stream",
          "text": [
            "Accuracy scores for each fold (MNB): [0.99210285 0.99008264 0.99228508 0.9904482  0.98842763]\n",
            "Mean Accuracy score (MNB): 0.9906692804742366\n"
          ]
        }
      ],
      "source": [
        "from sklearn.model_selection import StratifiedKFold, cross_val_score\n",
        "\n",
        "kfold = StratifiedKFold(n_splits=5, shuffle=True, random_state=42)\n",
        "mnb_model_tfidf = MultinomialNB(alpha=1.0)\n",
        "\n",
        "# Evaluate the model using cross-validation on oversampled TF-IDF training data\n",
        "cv_scores_mnb = cross_val_score(mnb_model_tfidf, X_train_tfidf_res, y_train_tfidf_res, cv=kfold, scoring='accuracy')\n",
        "\n",
        "print(\"Accuracy scores for each fold (MNB):\", cv_scores_mnb)\n",
        "print(\"Mean Accuracy score (MNB):\", cv_scores_mnb.mean())\n"
      ]
    },
    {
      "cell_type": "markdown",
      "metadata": {
        "id": "h_veyRQTjpMT"
      },
      "source": [
        "Model 2: Train Logistic Regression Model + Oversampling + K-fold CV (TF-IDF)"
      ]
    },
    {
      "cell_type": "code",
      "execution_count": 30,
      "metadata": {
        "colab": {
          "base_uri": "https://localhost:8080/"
        },
        "id": "mvBoucl_L_I9",
        "outputId": "7c2397eb-7508-4b54-bf37-59edb923d407"
      },
      "outputs": [
        {
          "name": "stdout",
          "output_type": "stream",
          "text": [
            "Accuracy scores for each fold (MNB): [0.99210285 0.99008264 0.99228508 0.9904482  0.98842763]\n",
            "Mean Accuracy score (MNB): 0.9906692804742366\n"
          ]
        }
      ],
      "source": [
        "kfold = StratifiedKFold(n_splits=5, shuffle=True, random_state=42)\n",
        "lr_model_tfidf = LogisticRegression(max_iter=1000)\n",
        "cv_scores = cross_val_score(lr_model_tfidf, X_train_tfidf_res, y_train_tfidf_res, cv=kfold, scoring='accuracy')\n",
        "\n",
        "print(\"Accuracy scores for each fold (MNB):\", cv_scores_mnb)\n",
        "print(\"Mean Accuracy score (MNB):\", cv_scores_mnb.mean())\n"
      ]
    }
  ],
  "metadata": {
    "colab": {
      "provenance": []
    },
    "kernelspec": {
      "display_name": "Python 3",
      "name": "python3"
    },
    "language_info": {
      "codemirror_mode": {
        "name": "ipython",
        "version": 3
      },
      "file_extension": ".py",
      "mimetype": "text/x-python",
      "name": "python",
      "nbconvert_exporter": "python",
      "pygments_lexer": "ipython3",
      "version": "3.12.4"
    }
  },
  "nbformat": 4,
  "nbformat_minor": 0
}
